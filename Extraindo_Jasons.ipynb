{
  "nbformat": 4,
  "nbformat_minor": 0,
  "metadata": {
    "colab": {
      "provenance": [],
      "authorship_tag": "ABX9TyO7l7zjE7xVd+RUPrAhhSrM",
      "include_colab_link": true
    },
    "kernelspec": {
      "name": "python3",
      "display_name": "Python 3"
    },
    "language_info": {
      "name": "python"
    }
  },
  "cells": [
    {
      "cell_type": "markdown",
      "metadata": {
        "id": "view-in-github",
        "colab_type": "text"
      },
      "source": [
        "<a href=\"https://colab.research.google.com/github/LucasMirandaVS/LucasMirandaVS/blob/main/Extraindo_Jasons.ipynb\" target=\"_parent\"><img src=\"https://colab.research.google.com/assets/colab-badge.svg\" alt=\"Open In Colab\"/></a>"
      ]
    },
    {
      "cell_type": "code",
      "execution_count": 3,
      "metadata": {
        "colab": {
          "base_uri": "https://localhost:8080/"
        },
        "id": "LfvXV3qp7zId",
        "outputId": "3d6a7219-32a1-4153-df6d-a44612bdd7cd"
      },
      "outputs": [
        {
          "output_type": "stream",
          "name": "stdout",
          "text": [
            "O arquivo BR_category_id.json foi convertido para BR_category_id.csv com sucesso!\n",
            "O arquivo CA_category_id.json foi convertido para CA_category_id.csv com sucesso!\n",
            "O arquivo GB_category_id.json foi convertido para GB_category_id.csv com sucesso!\n",
            "O arquivo US_category_id.json foi convertido para US_category_id.csv com sucesso!\n"
          ]
        }
      ],
      "source": [
        "import json\n",
        "import csv\n",
        "\n",
        "def json_to_csv(json_files):\n",
        "    for json_file in json_files:\n",
        "        # Define o nome do arquivo CSV de saída com base no nome do arquivo JSON\n",
        "        output_csv = json_file.replace('.json', '.csv')\n",
        "\n",
        "        # Abre o arquivo JSON para leitura\n",
        "        with open(json_file, 'r', encoding='utf-8') as f:\n",
        "            json_data = json.load(f)\n",
        "\n",
        "        # Abre o arquivo CSV para escrita\n",
        "        with open(output_csv, mode='w', newline='', encoding='utf-8') as csv_file:\n",
        "            # Cria o writer do CSV\n",
        "            csv_writer = csv.writer(csv_file)\n",
        "\n",
        "            # Escreve o cabeçalho do CSV\n",
        "            header = ['kind', 'etag', 'id', 'title', 'assignable', 'channelId']\n",
        "            csv_writer.writerow(header)\n",
        "\n",
        "            # Itera sobre os itens para extrair os dados\n",
        "            for item in json_data['items']:\n",
        "                kind = item.get('kind')\n",
        "                etag = item.get('etag')\n",
        "                id = item.get('id')\n",
        "                title = item['snippet'].get('title')\n",
        "                assignable = item['snippet'].get('assignable')\n",
        "                channel_id = item['snippet'].get('channelId')\n",
        "\n",
        "                # Escreve os dados da linha no CSV\n",
        "                csv_writer.writerow([kind, etag, id, title, assignable, channel_id])\n",
        "\n",
        "        print(f'O arquivo {json_file} foi convertido para {output_csv} com sucesso!')\n",
        "\n",
        "# Lista dos arquivos JSON\n",
        "json_files = ['BR_category_id.json', 'CA_category_id.json', 'GB_category_id.json', 'US_category_id.json']\n",
        "\n",
        "# Chama a função para converter cada JSON para seu respectivo CSV\n",
        "json_to_csv(json_files)\n",
        "\n",
        "\n"
      ]
    }
  ]
}