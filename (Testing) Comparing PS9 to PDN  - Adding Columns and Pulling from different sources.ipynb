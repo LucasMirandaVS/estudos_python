{
 "cells": [
  {
   "cell_type": "markdown",
   "metadata": {
    "application/vnd.databricks.v1+cell": {
     "cellMetadata": {
      "byteLimit": 2048000,
      "rowLimit": 10000
     },
     "inputWidgets": {},
     "nuid": "111d0b33-7ff0-445d-b21a-6323e750f1f0",
     "showTitle": false,
     "tableResultSettingsMap": {},
     "title": ""
    }
   },
   "source": [
    "## 1. Imports and Enviroment"
   ]
  },
  {
   "cell_type": "code",
   "execution_count": 0,
   "metadata": {
    "application/vnd.databricks.v1+cell": {
     "cellMetadata": {
      "byteLimit": 2048000,
      "rowLimit": 10000
     },
     "collapsed": true,
     "inputWidgets": {},
     "nuid": "f8d5d43f-7b97-46a5-b468-0f3314df7ad1",
     "showTitle": false,
     "tableResultSettingsMap": {},
     "title": ""
    }
   },
   "outputs": [],
   "source": [
    "from pyspark.sql import SparkSession, DataFrame\n",
    "from pyspark.sql import functions as F\n",
    "from pyspark.sql.functions import col, concat_ws\n",
    "from functools import reduce\n",
    "\n",
    "env_path = \"abfss://d3-shared-data@cdlprdadl2weu.dfs.core.windows.net\""
   ]
  },
  {
   "cell_type": "markdown",
   "metadata": {
    "application/vnd.databricks.v1+cell": {
     "cellMetadata": {
      "byteLimit": 2048000,
      "rowLimit": 10000
     },
     "inputWidgets": {},
     "nuid": "856a0a9e-b1b9-4113-a899-9eca363fafdc",
     "showTitle": false,
     "tableResultSettingsMap": {},
     "title": ""
    }
   },
   "source": [
    "## 2. Loading the Data"
   ]
  },
  {
   "cell_type": "code",
   "execution_count": 0,
   "metadata": {
    "application/vnd.databricks.v1+cell": {
     "cellMetadata": {
      "byteLimit": 2048000,
      "rowLimit": 10000
     },
     "inputWidgets": {},
     "nuid": "f3468d27-d9f7-44bd-aa73-26ff91ba2e5e",
     "showTitle": false,
     "tableResultSettingsMap": {},
     "title": ""
    }
   },
   "outputs": [],
   "source": [
    "# Paths to the Delta and CSV tables\n",
    "product_ref_main_path = f\"{env_path}/30_datamart_D3/PDN/PRODUCT_REF/PRODUCT_REF_MAIN\"\n",
    "product_path = f\"{env_path}/30_datamart_D3/PDN/NACR/PRODUCT/PRODUCT.parquet\""
   ]
  },
  {
   "cell_type": "code",
   "execution_count": 0,
   "metadata": {
    "application/vnd.databricks.v1+cell": {
     "cellMetadata": {
      "byteLimit": 2048000,
      "rowLimit": 10000
     },
     "inputWidgets": {},
     "nuid": "01461a14-3678-49de-857b-c2723dfbbcd4",
     "showTitle": false,
     "tableResultSettingsMap": {},
     "title": ""
    }
   },
   "outputs": [],
   "source": [
    "# Load PDN Delta and Parquet tables\n",
    "product_main_df = spark.read.format(\"delta\").load(product_ref_main_path)\n",
    "product_df = spark.read.format(\"parquet\").load(product_path)"
   ]
  },
  {
   "cell_type": "markdown",
   "metadata": {
    "application/vnd.databricks.v1+cell": {
     "cellMetadata": {
      "byteLimit": 2048000,
      "rowLimit": 10000
     },
     "inputWidgets": {},
     "nuid": "791313f4-a784-43fa-9055-62b2fdf6ef0f",
     "showTitle": true,
     "tableResultSettingsMap": {},
     "title": ""
    }
   },
   "source": [
    "## 3. Comparing the Tables"
   ]
  },
  {
   "cell_type": "code",
   "execution_count": 0,
   "metadata": {
    "application/vnd.databricks.v1+cell": {
     "cellMetadata": {
      "byteLimit": 2048000,
      "rowLimit": 10000
     },
     "inputWidgets": {},
     "nuid": "77cfc077-76c2-4f9c-90a8-a5ea89255b53",
     "showTitle": true,
     "tableResultSettingsMap": {},
     "title": "Build combined key in PRODUCT_REF_MAIN (MSPN + ITEM_NUMBER)"
    }
   },
   "outputs": [],
   "source": [
    "# Select relevant columns and filter null MSPNs\n",
    "product_sel = product_df.select(\n",
    "    \"MSPN_NBR\",\n",
    "    \"INVENTORY_IND\", \"BUSINESS_CATEG_CODE\", \"BUSINESS_LINE_CODE\",\n",
    "    \"COMPETITOR_FLAG\", \"PRODUCT_CATEG_CODE\", \"PRODUCT_TYPE\",\n",
    "    \"RETREAD_FLAG\", \"GL_PRODUCT_CODE\"\n",
    ").dropna(subset=[\"MSPN_NBR\"])\n",
    "\n",
    "product_main_keys = product_main_df.select(\"MSPN\").dropna()\n",
    "\n",
    "# Find records in PRODUCT that are missing in PRODUCT_REF_MAIN by MSPN\n",
    "missing_known_df = product_sel.join(product_main_keys, product_sel[\"MSPN_NBR\"] == product_main_keys[\"MSPN\"], how=\"left_anti\")\n",
    "\n",
    "# Join with product_main_df to enrich with extra fields if available\n",
    "product_main_lookup = product_main_df.select(\"MSPN\", \"ITEM_NUMBER\", \"ITEM_CLASS\", \"ITEM_TYPE\", \"ITEM_SHORT_DESC\")\n",
    "\n",
    "missing_known_enriched = missing_known_df.join(product_main_lookup, missing_known_df[\"MSPN_NBR\"] == product_main_lookup[\"MSPN\"], how=\"left\")\n",
    "\n",
    "# Final result: include all requested columns\n",
    "missing_known_final = missing_known_enriched.select(\n",
    "    col(\"MSPN_NBR\").alias(\"MSPN\"),\n",
    "    \"INVENTORY_IND\", \"BUSINESS_CATEG_CODE\", \"BUSINESS_LINE_CODE\",\n",
    "    \"COMPETITOR_FLAG\", \"PRODUCT_CATEG_CODE\", \"PRODUCT_TYPE\",\n",
    "    \"RETREAD_FLAG\", \"GL_PRODUCT_CODE\"\n",
    ")\n"
   ]
  },
  {
   "cell_type": "code",
   "execution_count": 0,
   "metadata": {
    "application/vnd.databricks.v1+cell": {
     "cellMetadata": {
      "byteLimit": 2048000,
      "rowLimit": 10000
     },
     "inputWidgets": {},
     "nuid": "662a4ef6-4ade-4a90-9d84-402f528741d9",
     "showTitle": true,
     "tableResultSettingsMap": {},
     "title": "Final Ouput"
    }
   },
   "outputs": [],
   "source": [
    "# missing_known_final: records in PRODUCT not in PRODUCT_REF_MAIN (expected to be missing)\n",
    "# missing_count = missing_known_final.count()\n",
    "# print(f\"Number of missing records: {missing_count}\")\n",
    "# display(missing_known_final)\n",
    "# missing_known_final.write.csv(\"/mnt/data/missing_known.csv\", header=True)"
   ]
  },
  {
   "cell_type": "code",
   "execution_count": 0,
   "metadata": {
    "application/vnd.databricks.v1+cell": {
     "cellMetadata": {
      "byteLimit": 2048000,
      "rowLimit": 10000
     },
     "collapsed": true,
     "inputWidgets": {},
     "nuid": "59e200d9-0018-459a-94bf-0e1f42872e65",
     "showTitle": false,
     "tableResultSettingsMap": {},
     "title": ""
    }
   },
   "outputs": [
    {
     "output_type": "display_data",
     "data": {
      "text/html": [
       "<style scoped>\n",
       "  .table-result-container {\n",
       "    max-height: 300px;\n",
       "    overflow: auto;\n",
       "  }\n",
       "  table, th, td {\n",
       "    border: 1px solid black;\n",
       "    border-collapse: collapse;\n",
       "  }\n",
       "  th, td {\n",
       "    padding: 5px;\n",
       "  }\n",
       "  th {\n",
       "    text-align: left;\n",
       "  }\n",
       "</style><div class='table-result-container'><table class='table-result'><thead style='background-color: white'><tr><th>path</th><th>name</th><th>size</th><th>modificationTime</th></tr></thead><tbody><tr><td>dbfs:/mnt/data/missing_known.csv/_SUCCESS</td><td>_SUCCESS</td><td>0</td><td>1748980678000</td></tr><tr><td>dbfs:/mnt/data/missing_known.csv/_committed_77592665756723204</td><td>_committed_77592665756723204</td><td>112</td><td>1748980678000</td></tr><tr><td>dbfs:/mnt/data/missing_known.csv/_started_77592665756723204</td><td>_started_77592665756723204</td><td>0</td><td>1748980677000</td></tr><tr><td>dbfs:/mnt/data/missing_known.csv/part-00000-tid-77592665756723204-b7c5fee5-0fb5-4455-ae7b-9a2313f9dc67-7555-1-c000.csv</td><td>part-00000-tid-77592665756723204-b7c5fee5-0fb5-4455-ae7b-9a2313f9dc67-7555-1-c000.csv</td><td>19393701</td><td>1748980678000</td></tr></tbody></table></div>"
      ]
     },
     "metadata": {
      "application/vnd.databricks.v1+output": {
       "addedWidgets": {},
       "aggData": [],
       "aggError": "",
       "aggOverflow": false,
       "aggSchema": [],
       "aggSeriesLimitReached": false,
       "aggType": "",
       "arguments": {},
       "columnCustomDisplayInfos": {},
       "data": [
        [
         "dbfs:/mnt/data/missing_known.csv/_SUCCESS",
         "_SUCCESS",
         0,
         1748980678000
        ],
        [
         "dbfs:/mnt/data/missing_known.csv/_committed_77592665756723204",
         "_committed_77592665756723204",
         112,
         1748980678000
        ],
        [
         "dbfs:/mnt/data/missing_known.csv/_started_77592665756723204",
         "_started_77592665756723204",
         0,
         1748980677000
        ],
        [
         "dbfs:/mnt/data/missing_known.csv/part-00000-tid-77592665756723204-b7c5fee5-0fb5-4455-ae7b-9a2313f9dc67-7555-1-c000.csv",
         "part-00000-tid-77592665756723204-b7c5fee5-0fb5-4455-ae7b-9a2313f9dc67-7555-1-c000.csv",
         19393701,
         1748980678000
        ]
       ],
       "datasetInfos": [],
       "dbfsResultPath": null,
       "isJsonSchema": true,
       "metadata": {},
       "overflow": false,
       "plotOptions": {
        "customPlotOptions": {},
        "displayType": "table",
        "pivotAggregation": null,
        "pivotColumns": null,
        "xColumns": null,
        "yColumns": null
       },
       "removedWidgets": [],
       "schema": [
        {
         "metadata": "{}",
         "name": "path",
         "type": "\"string\""
        },
        {
         "metadata": "{}",
         "name": "name",
         "type": "\"string\""
        },
        {
         "metadata": "{}",
         "name": "size",
         "type": "\"long\""
        },
        {
         "metadata": "{}",
         "name": "modificationTime",
         "type": "\"long\""
        }
       ],
       "type": "table"
      }
     },
     "output_type": "display_data"
    }
   ],
   "source": [
    "display(dbutils.fs.ls(\"dbfs:/mnt/data/missing_known.csv\"))"
   ]
  },
  {
   "cell_type": "code",
   "execution_count": 0,
   "metadata": {
    "application/vnd.databricks.v1+cell": {
     "cellMetadata": {
      "byteLimit": 2048000,
      "rowLimit": 10000
     },
     "inputWidgets": {},
     "nuid": "59dddb72-5fa8-431b-8f56-b32bfba753c0",
     "showTitle": false,
     "tableResultSettingsMap": {},
     "title": ""
    }
   },
   "outputs": [],
   "source": [
    "missing_known_final.toPandas().to_csv(\"/dbfs/FileStore/missing_known.csv\", index=False)"
   ]
  }
 ],
 "metadata": {
  "application/vnd.databricks.v1+notebook": {
   "computePreferences": null,
   "dashboards": [],
   "environmentMetadata": {
    "base_environment": "",
    "environment_version": "2"
   },
   "inputWidgetPreferences": null,
   "language": "python",
   "notebookMetadata": {
    "pythonIndentUnit": 4
   },
   "notebookName": "(Testing) Comparing PS9 to PDN  - Adding Columns and Pulling from different sources",
   "widgets": {}
  },
  "language_info": {
   "name": "python"
  }
 },
 "nbformat": 4,
 "nbformat_minor": 0
}