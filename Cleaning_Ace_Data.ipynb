{
  "nbformat": 4,
  "nbformat_minor": 0,
  "metadata": {
    "colab": {
      "provenance": [],
      "authorship_tag": "ABX9TyMxwfLFnpSdaQIF0kVIF4QC",
      "include_colab_link": true
    },
    "kernelspec": {
      "name": "python3",
      "display_name": "Python 3"
    },
    "language_info": {
      "name": "python"
    }
  },
  "cells": [
    {
      "cell_type": "markdown",
      "metadata": {
        "id": "view-in-github",
        "colab_type": "text"
      },
      "source": [
        "<a href=\"https://colab.research.google.com/github/LucasMirandaVS/estudos_python/blob/main/Cleaning_Ace_Data.ipynb\" target=\"_parent\"><img src=\"https://colab.research.google.com/assets/colab-badge.svg\" alt=\"Open In Colab\"/></a>"
      ]
    },
    {
      "cell_type": "code",
      "execution_count": null,
      "metadata": {
        "id": "T0r1nBRdEfzk"
      },
      "outputs": [],
      "source": [
        "import pandas as pd"
      ]
    },
    {
      "cell_type": "code",
      "source": [
        "# Step 2: Export the raw data to a CSV file for traceability and downstream processing\n",
        "csv_path = \"May2025RawData.csv\"\n",
        "df_raw.to_csv(csv_path, index=False)"
      ],
      "metadata": {
        "id": "-caRN7G-JiHf"
      },
      "execution_count": null,
      "outputs": []
    },
    {
      "cell_type": "code",
      "source": [
        "# Step 3: Load the CSV file just created (acts as a checkpoint)\n",
        "try:\n",
        "    df = pd.read_csv(csv_path, sep=\",\", encoding=\"utf-8\")\n",
        "except pd.errors.ParserError:\n",
        "    df = pd.read_csv(csv_path, sep=\";\", encoding=\"utf-8\", error_bad_lines=False)"
      ],
      "metadata": {
        "colab": {
          "base_uri": "https://localhost:8080/"
        },
        "id": "WiIJimlGJmRX",
        "outputId": "362530f7-f909-4ca3-a4c8-1bcafb425ad0"
      },
      "execution_count": null,
      "outputs": [
        {
          "output_type": "stream",
          "name": "stderr",
          "text": [
            "/tmp/ipython-input-3638582853.py:3: DtypeWarning: Columns (0) have mixed types. Specify dtype option on import or set low_memory=False.\n",
            "  df = pd.read_csv(csv_path, sep=\",\", encoding=\"utf-8\")\n"
          ]
        }
      ]
    },
    {
      "cell_type": "code",
      "source": [
        "# Step 4: Create a unique key for each tariff line by combining Entry Summary Number and Entry Summary Line Number\n",
        "# This ensures that we treat each line as a unique transaction for aggregation purposes\n",
        "df[\"Entry Summary Code\"] = (\n",
        "    df[\"Entry Summary Number\"].astype(str) + \"-\" + df[\"Entry Summary Line Number\"].astype(str)\n",
        ")"
      ],
      "metadata": {
        "id": "-CHzOl3_JnbA"
      },
      "execution_count": null,
      "outputs": []
    },
    {
      "cell_type": "code",
      "source": [
        "# Step 5: Group by the unique line (Entry Summary Code) and HTS Number to prevent double-counting tariffs\n",
        "# We sum the values within each group to consolidate any internal duplications\n",
        "grouped = (\n",
        "    df.groupby([\"Entry Summary Code\", \"HTS Number - Full\"], dropna=False)\n",
        "    .agg({\n",
        "        \"Line Tariff Duty Amount\": \"sum\",\n",
        "        \"Antidumping Duty Amount\": \"sum\",\n",
        "        \"Countervailing Duty Amount\": \"sum\"\n",
        "    })\n",
        "    .reset_index()\n",
        ")"
      ],
      "metadata": {
        "id": "nhih08aiJqs_"
      },
      "execution_count": null,
      "outputs": []
    },
    {
      "cell_type": "code",
      "source": [
        "# Step 6: Now group by HTS Number only, aggregating across all unique entry lines\n",
        "# This gives us the final total tariffs per HTS code, with duplications removed\n",
        "final = (\n",
        "    grouped.groupby(\"HTS Number - Full\", dropna=False)[\n",
        "        [\"Line Tariff Duty Amount\", \"Antidumping Duty Amount\", \"Countervailing Duty Amount\"]\n",
        "    ]\n",
        "    .sum()\n",
        "    .reset_index()\n",
        ")\n"
      ],
      "metadata": {
        "id": "H_2Ni42BJteh"
      },
      "execution_count": null,
      "outputs": []
    },
    {
      "cell_type": "code",
      "source": [
        "# Step 7: Rename columns for clarity in the output file\n",
        "final.columns = [\n",
        "    \"HTS Number\",\n",
        "    \"Total Line Tariff Duty Amount\",\n",
        "    \"Total Antidumping Duty Amount\",\n",
        "    \"Total Countervailing Duty Amount\"\n",
        "]"
      ],
      "metadata": {
        "id": "EvVUwrDkJvuA"
      },
      "execution_count": null,
      "outputs": []
    },
    {
      "cell_type": "code",
      "source": [
        "# Step 8: Export the cleaned and aggregated data to a new CSV file\n",
        "final.to_csv(\"corrected_tariffs_by_hts.csv\", index=False)"
      ],
      "metadata": {
        "id": "yOs1UpjTJw85"
      },
      "execution_count": null,
      "outputs": []
    }
  ]
}