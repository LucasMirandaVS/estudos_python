{
  "nbformat": 4,
  "nbformat_minor": 0,
  "metadata": {
    "colab": {
      "provenance": [],
      "authorship_tag": "ABX9TyMBex/8QH8lJ3jetrdNK0Zg",
      "include_colab_link": true
    },
    "kernelspec": {
      "name": "python3",
      "display_name": "Python 3"
    },
    "language_info": {
      "name": "python"
    }
  },
  "cells": [
    {
      "cell_type": "markdown",
      "metadata": {
        "id": "view-in-github",
        "colab_type": "text"
      },
      "source": [
        "<a href=\"https://colab.research.google.com/github/LucasMirandaVS/estudos_python/blob/main/Data_Wrangling_Spark.ipynb\" target=\"_parent\"><img src=\"https://colab.research.google.com/assets/colab-badge.svg\" alt=\"Open In Colab\"/></a>"
      ]
    },
    {
      "cell_type": "markdown",
      "source": [
        "# Dependencies"
      ],
      "metadata": {
        "id": "_7IzhA8ZOAth"
      }
    },
    {
      "cell_type": "code",
      "execution_count": 4,
      "metadata": {
        "colab": {
          "base_uri": "https://localhost:8080/"
        },
        "id": "uD9uVq8kMOPr",
        "outputId": "9f75b7aa-87e7-4219-d54c-6921470ff42a"
      },
      "outputs": [
        {
          "output_type": "stream",
          "name": "stdout",
          "text": [
            "Requirement already satisfied: pyspark==3.5.1 in /usr/local/lib/python3.11/dist-packages (3.5.1)\n",
            "Requirement already satisfied: py4j==0.10.9.7 in /usr/local/lib/python3.11/dist-packages (from pyspark==3.5.1) (0.10.9.7)\n"
          ]
        }
      ],
      "source": [
        "pip install pyspark==3.5.1"
      ]
    },
    {
      "cell_type": "code",
      "source": [
        "import glob, os\n",
        "from google.colab import files\n",
        "from pyspark.sql import SparkSession\n",
        "from pyspark.sql.utils import AnalysisException\n",
        "from pyspark.sql import functions as F"
      ],
      "metadata": {
        "id": "bYenQz-RN5mn"
      },
      "execution_count": 19,
      "outputs": []
    },
    {
      "cell_type": "code",
      "source": [
        "spark = SparkSession.builder.appName(\"ace-tariffs-cleaning\").getOrCreate()"
      ],
      "metadata": {
        "id": "cg7dIUtROH2n"
      },
      "execution_count": 6,
      "outputs": []
    },
    {
      "cell_type": "markdown",
      "source": [
        "# Defining the Data"
      ],
      "metadata": {
        "id": "0ama_9jjOKD4"
      }
    },
    {
      "cell_type": "code",
      "source": [
        "up = files.upload('raw_data.csv')\n",
        "csv_path = next(iter(up.keys()))\n",
        "print(\"Arquivo:\", csv_path)"
      ],
      "metadata": {
        "colab": {
          "base_uri": "https://localhost:8080/",
          "height": 90
        },
        "id": "rPs4sanRONGP",
        "outputId": "32659d7c-5fbf-4f0c-ea19-af4532148a42"
      },
      "execution_count": 7,
      "outputs": [
        {
          "output_type": "display_data",
          "data": {
            "text/plain": [
              "<IPython.core.display.HTML object>"
            ],
            "text/html": [
              "\n",
              "     <input type=\"file\" id=\"files-43966c5f-06f7-41f2-9637-778ee23178a9\" name=\"files[]\" multiple disabled\n",
              "        style=\"border:none\" />\n",
              "     <output id=\"result-43966c5f-06f7-41f2-9637-778ee23178a9\">\n",
              "      Upload widget is only available when the cell has been executed in the\n",
              "      current browser session. Please rerun this cell to enable.\n",
              "      </output>\n",
              "      <script>// Copyright 2017 Google LLC\n",
              "//\n",
              "// Licensed under the Apache License, Version 2.0 (the \"License\");\n",
              "// you may not use this file except in compliance with the License.\n",
              "// You may obtain a copy of the License at\n",
              "//\n",
              "//      http://www.apache.org/licenses/LICENSE-2.0\n",
              "//\n",
              "// Unless required by applicable law or agreed to in writing, software\n",
              "// distributed under the License is distributed on an \"AS IS\" BASIS,\n",
              "// WITHOUT WARRANTIES OR CONDITIONS OF ANY KIND, either express or implied.\n",
              "// See the License for the specific language governing permissions and\n",
              "// limitations under the License.\n",
              "\n",
              "/**\n",
              " * @fileoverview Helpers for google.colab Python module.\n",
              " */\n",
              "(function(scope) {\n",
              "function span(text, styleAttributes = {}) {\n",
              "  const element = document.createElement('span');\n",
              "  element.textContent = text;\n",
              "  for (const key of Object.keys(styleAttributes)) {\n",
              "    element.style[key] = styleAttributes[key];\n",
              "  }\n",
              "  return element;\n",
              "}\n",
              "\n",
              "// Max number of bytes which will be uploaded at a time.\n",
              "const MAX_PAYLOAD_SIZE = 100 * 1024;\n",
              "\n",
              "function _uploadFiles(inputId, outputId) {\n",
              "  const steps = uploadFilesStep(inputId, outputId);\n",
              "  const outputElement = document.getElementById(outputId);\n",
              "  // Cache steps on the outputElement to make it available for the next call\n",
              "  // to uploadFilesContinue from Python.\n",
              "  outputElement.steps = steps;\n",
              "\n",
              "  return _uploadFilesContinue(outputId);\n",
              "}\n",
              "\n",
              "// This is roughly an async generator (not supported in the browser yet),\n",
              "// where there are multiple asynchronous steps and the Python side is going\n",
              "// to poll for completion of each step.\n",
              "// This uses a Promise to block the python side on completion of each step,\n",
              "// then passes the result of the previous step as the input to the next step.\n",
              "function _uploadFilesContinue(outputId) {\n",
              "  const outputElement = document.getElementById(outputId);\n",
              "  const steps = outputElement.steps;\n",
              "\n",
              "  const next = steps.next(outputElement.lastPromiseValue);\n",
              "  return Promise.resolve(next.value.promise).then((value) => {\n",
              "    // Cache the last promise value to make it available to the next\n",
              "    // step of the generator.\n",
              "    outputElement.lastPromiseValue = value;\n",
              "    return next.value.response;\n",
              "  });\n",
              "}\n",
              "\n",
              "/**\n",
              " * Generator function which is called between each async step of the upload\n",
              " * process.\n",
              " * @param {string} inputId Element ID of the input file picker element.\n",
              " * @param {string} outputId Element ID of the output display.\n",
              " * @return {!Iterable<!Object>} Iterable of next steps.\n",
              " */\n",
              "function* uploadFilesStep(inputId, outputId) {\n",
              "  const inputElement = document.getElementById(inputId);\n",
              "  inputElement.disabled = false;\n",
              "\n",
              "  const outputElement = document.getElementById(outputId);\n",
              "  outputElement.innerHTML = '';\n",
              "\n",
              "  const pickedPromise = new Promise((resolve) => {\n",
              "    inputElement.addEventListener('change', (e) => {\n",
              "      resolve(e.target.files);\n",
              "    });\n",
              "  });\n",
              "\n",
              "  const cancel = document.createElement('button');\n",
              "  inputElement.parentElement.appendChild(cancel);\n",
              "  cancel.textContent = 'Cancel upload';\n",
              "  const cancelPromise = new Promise((resolve) => {\n",
              "    cancel.onclick = () => {\n",
              "      resolve(null);\n",
              "    };\n",
              "  });\n",
              "\n",
              "  // Wait for the user to pick the files.\n",
              "  const files = yield {\n",
              "    promise: Promise.race([pickedPromise, cancelPromise]),\n",
              "    response: {\n",
              "      action: 'starting',\n",
              "    }\n",
              "  };\n",
              "\n",
              "  cancel.remove();\n",
              "\n",
              "  // Disable the input element since further picks are not allowed.\n",
              "  inputElement.disabled = true;\n",
              "\n",
              "  if (!files) {\n",
              "    return {\n",
              "      response: {\n",
              "        action: 'complete',\n",
              "      }\n",
              "    };\n",
              "  }\n",
              "\n",
              "  for (const file of files) {\n",
              "    const li = document.createElement('li');\n",
              "    li.append(span(file.name, {fontWeight: 'bold'}));\n",
              "    li.append(span(\n",
              "        `(${file.type || 'n/a'}) - ${file.size} bytes, ` +\n",
              "        `last modified: ${\n",
              "            file.lastModifiedDate ? file.lastModifiedDate.toLocaleDateString() :\n",
              "                                    'n/a'} - `));\n",
              "    const percent = span('0% done');\n",
              "    li.appendChild(percent);\n",
              "\n",
              "    outputElement.appendChild(li);\n",
              "\n",
              "    const fileDataPromise = new Promise((resolve) => {\n",
              "      const reader = new FileReader();\n",
              "      reader.onload = (e) => {\n",
              "        resolve(e.target.result);\n",
              "      };\n",
              "      reader.readAsArrayBuffer(file);\n",
              "    });\n",
              "    // Wait for the data to be ready.\n",
              "    let fileData = yield {\n",
              "      promise: fileDataPromise,\n",
              "      response: {\n",
              "        action: 'continue',\n",
              "      }\n",
              "    };\n",
              "\n",
              "    // Use a chunked sending to avoid message size limits. See b/62115660.\n",
              "    let position = 0;\n",
              "    do {\n",
              "      const length = Math.min(fileData.byteLength - position, MAX_PAYLOAD_SIZE);\n",
              "      const chunk = new Uint8Array(fileData, position, length);\n",
              "      position += length;\n",
              "\n",
              "      const base64 = btoa(String.fromCharCode.apply(null, chunk));\n",
              "      yield {\n",
              "        response: {\n",
              "          action: 'append',\n",
              "          file: file.name,\n",
              "          data: base64,\n",
              "        },\n",
              "      };\n",
              "\n",
              "      let percentDone = fileData.byteLength === 0 ?\n",
              "          100 :\n",
              "          Math.round((position / fileData.byteLength) * 100);\n",
              "      percent.textContent = `${percentDone}% done`;\n",
              "\n",
              "    } while (position < fileData.byteLength);\n",
              "  }\n",
              "\n",
              "  // All done.\n",
              "  yield {\n",
              "    response: {\n",
              "      action: 'complete',\n",
              "    }\n",
              "  };\n",
              "}\n",
              "\n",
              "scope.google = scope.google || {};\n",
              "scope.google.colab = scope.google.colab || {};\n",
              "scope.google.colab._files = {\n",
              "  _uploadFiles,\n",
              "  _uploadFilesContinue,\n",
              "};\n",
              "})(self);\n",
              "</script> "
            ]
          },
          "metadata": {}
        },
        {
          "output_type": "stream",
          "name": "stdout",
          "text": [
            "Saving raw_data.csv to raw_data.csv/raw_data.csv\n",
            "Arquivo: raw_data.csv/raw_data.csv\n"
          ]
        }
      ]
    },
    {
      "cell_type": "code",
      "source": [
        "# Defining the DF\n",
        "def read_csv_with_fallback(path):\n",
        "    try:\n",
        "        return (spark.read\n",
        "                .option(\"header\", True)\n",
        "                .option(\"inferSchema\", True)\n",
        "                .option(\"sep\", \",\")\n",
        "                .option(\"quote\", '\"')\n",
        "                .option(\"escape\", '\"')\n",
        "                .csv(path))\n",
        "    except Exception:\n",
        "        # tenta \";\"\n",
        "        return (spark.read\n",
        "                .option(\"header\", True)\n",
        "                .option(\"inferSchema\", True)\n",
        "                .option(\"sep\", \";\")\n",
        "                .option(\"quote\", '\"')\n",
        "                .option(\"escape\", '\"')\n",
        "                .csv(path))\n",
        "\n",
        "df_raw = read_csv_with_fallback(csv_path)\n",
        "print(\"Linhas:\", df_raw.count()); df_raw.printSchema()"
      ],
      "metadata": {
        "colab": {
          "base_uri": "https://localhost:8080/"
        },
        "id": "DGvvUjpzPIrN",
        "outputId": "b678b8f9-ceb8-49c2-97aa-225cf1d600e2"
      },
      "execution_count": 9,
      "outputs": [
        {
          "output_type": "stream",
          "name": "stdout",
          "text": [
            "Linhas: 73334\n",
            "root\n",
            " |-- Entry Summary Number: string (nullable = true)\n",
            " |-- Entry Type Code: integer (nullable = true)\n",
            " |-- Importer Number: string (nullable = true)\n",
            " |-- Port of Entry Code: integer (nullable = true)\n",
            " |-- Entry Date: string (nullable = true)\n",
            " |-- Entry Summary Date: string (nullable = true)\n",
            " |-- Initial Entry Summary Create Date: string (nullable = true)\n",
            " |-- Entry Summary Line Number: integer (nullable = true)\n",
            " |-- Country of Origin Code: string (nullable = true)\n",
            " |-- Country of Export Code: string (nullable = true)\n",
            " |-- Manufacturer ID: string (nullable = true)\n",
            " |-- Foreign Exporter ID: string (nullable = true)\n",
            " |-- Line SPI Code: string (nullable = true)\n",
            " |-- Tariff Ordinal Number: integer (nullable = true)\n",
            " |-- HTS Number - Full: long (nullable = true)\n",
            " |-- HTS Long Description: string (nullable = true)\n",
            " |-- Line Tariff Quantity (1): string (nullable = true)\n",
            " |-- Line Tariff UOM (1) Code: string (nullable = true)\n",
            " |-- Line Tariff Quantity (2): string (nullable = true)\n",
            " |-- Line Tariff UOM (2) Code: string (nullable = true)\n",
            " |-- Line Tariff Quantity (3): string (nullable = true)\n",
            " |-- Line Tariff UOM (3) Code: string (nullable = true)\n",
            " |-- Line Tariff Goods Value Amount: string (nullable = true)\n",
            " |-- Line Tariff Duty Amount: string (nullable = true)\n",
            " |-- Line MPF Amount: string (nullable = true)\n",
            " |-- Line HMF Amount: string (nullable = true)\n",
            " |-- Antidumping Duty Amount: string (nullable = true)\n",
            " |-- Countervailing Duty Amount: string (nullable = true)\n",
            "\n"
          ]
        }
      ]
    },
    {
      "cell_type": "code",
      "source": [
        "# normalizing table names\n",
        "def norm(c):\n",
        "    return (c.strip()\n",
        "              .lower()\n",
        "              .replace(\"\\n\",\" \")\n",
        "              .replace(\"\\t\",\" \")\n",
        "              .replace(\"  \",\" \")\n",
        "              .replace(\" \", \"_\")\n",
        "              .replace(\"-\", \"_\")\n",
        "              .replace(\"/\", \"_\")\n",
        "              .replace(\".\", \"\")\n",
        "           )\n",
        "\n",
        "df = df_raw.toDF(*[norm(c) for c in df_raw.columns])"
      ],
      "metadata": {
        "id": "UU4JJ9QOPRu9"
      },
      "execution_count": 11,
      "outputs": []
    },
    {
      "cell_type": "code",
      "source": [
        "# detecting fields\n",
        "def find_col(candidates):\n",
        "    cols = df.columns\n",
        "    for cand in candidates:\n",
        "        for c in cols:\n",
        "            if cand in c:\n",
        "                return c\n",
        "    return None"
      ],
      "metadata": {
        "id": "Mno4zmLoPYMF"
      },
      "execution_count": 12,
      "outputs": []
    },
    {
      "cell_type": "code",
      "source": [
        "col_hts = find_col([\"hts\", \"hts_number\", \"harmonized\", \"htsnum\"])\n",
        "col_line_tariff = find_col([\"line_tariff_duty\", \"line_tariff\", \"tariff_duty\", \"duty_amount\"])\n",
        "col_antidumping = find_col([\"antidumping\", \"anti_dumping\"])\n",
        "col_countervail = find_col([\"countervailing\", \"counter_vailing\", \"cvd\"])\n",
        "\n",
        "print(\"Detected ->\",\n",
        "      \"\\n HTS:\", col_hts,\n",
        "      \"\\n Line Tariff Duty:\", col_line_tariff,\n",
        "      \"\\n Anti-dumping:\", col_antidumping,\n",
        "      \"\\n Countervailing:\", col_countervail)"
      ],
      "metadata": {
        "colab": {
          "base_uri": "https://localhost:8080/"
        },
        "id": "TDXObMTNPism",
        "outputId": "f6a87750-84cb-4076-a9b8-87b34f29d75c"
      },
      "execution_count": 14,
      "outputs": [
        {
          "output_type": "stream",
          "name": "stdout",
          "text": [
            "Detected -> \n",
            " HTS: hts_number___full \n",
            " Line Tariff Duty: line_tariff_duty_amount \n",
            " Anti-dumping: antidumping_duty_amount \n",
            " Countervailing: countervailing_duty_amount\n"
          ]
        }
      ]
    },
    {
      "cell_type": "code",
      "source": [
        "# Cleaning the numbers\n",
        "num_cols = [c for c in [col_line_tariff, col_antidumping, col_countervail] if c]\n",
        "for c in num_cols:\n",
        "    df = (df.withColumn(c, F.regexp_replace(F.col(c), r\"\\.\", \"\"))\n",
        "            .withColumn(c, F.regexp_replace(F.col(c), r\",\", \".\"))\n",
        "            .withColumn(c, F.col(c).cast(\"double\")))"
      ],
      "metadata": {
        "id": "gJGFWVFCPl0d"
      },
      "execution_count": 15,
      "outputs": []
    },
    {
      "cell_type": "code",
      "source": [
        "if col_hts:\n",
        "    df = df.withColumn(col_hts, F.trim(F.col(col_hts)).cast(\"string\"))"
      ],
      "metadata": {
        "id": "AT3qSEd5PtoO"
      },
      "execution_count": 16,
      "outputs": []
    },
    {
      "cell_type": "code",
      "source": [
        "# Filter out invalid lines\n",
        "if not col_hts:\n",
        "    raise ValueError(\"Não encontrei a coluna HTS. Ajuste a detecção no passo 3.\")\n",
        "\n",
        "agg_exprs = []\n",
        "if col_line_tariff: agg_exprs.append(F.sum(F.col(col_line_tariff)).alias(\"Total Line Tariff Duty Amount\"))\n",
        "if col_antidumping: agg_exprs.append(F.sum(F.col(col_antidumping)).alias(\"Total Antidumping Duty Amount\"))\n",
        "if col_countervail: agg_exprs.append(F.sum(F.col(col_countervail)).alias(\"Total Countervailing Duty Amount\"))\n",
        "\n",
        "final = (\n",
        "    df.filter(F.col(col_hts).isNotNull() & (F.length(F.col(col_hts)) > 0))\n",
        "      .groupBy(F.col(col_hts).alias(\"HTS Number\"))\n",
        "      .agg(*agg_exprs)\n",
        ")\n",
        "\n",
        "final.show(20, truncate=False)\n",
        "final.printSchema()"
      ],
      "metadata": {
        "colab": {
          "base_uri": "https://localhost:8080/"
        },
        "id": "7sST-VOiPyQ0",
        "outputId": "4910608c-d660-4f6a-ee0e-5938e0137265"
      },
      "execution_count": 17,
      "outputs": [
        {
          "output_type": "stream",
          "name": "stdout",
          "text": [
            "+----------+-----------------------------+-----------------------------+--------------------------------+\n",
            "|HTS Number|Total Line Tariff Duty Amount|Total Antidumping Duty Amount|Total Countervailing Duty Amount|\n",
            "+----------+-----------------------------+-----------------------------+--------------------------------+\n",
            "|4011801010|NULL                         |NULL                         |NULL                            |\n",
            "|99038803  |NULL                         |NULL                         |NULL                            |\n",
            "|4013901000|NULL                         |NULL                         |NULL                            |\n",
            "|99030125  |NULL                         |NULL                         |NULL                            |\n",
            "|4011201005|NULL                         |NULL                         |NULL                            |\n",
            "|4002190016|NULL                         |NULL                         |NULL                            |\n",
            "|4011902050|NULL                         |NULL                         |NULL                            |\n",
            "|4011201015|NULL                         |NULL                         |NULL                            |\n",
            "|8607191500|NULL                         |NULL                         |NULL                            |\n",
            "|4016935010|NULL                         |NULL                         |NULL                            |\n",
            "|99039406  |NULL                         |NULL                         |NULL                            |\n",
            "|4011101020|NULL                         |NULL                         |NULL                            |\n",
            "|4013905050|NULL                         |NULL                         |NULL                            |\n",
            "|4013905010|NULL                         |NULL                         |NULL                            |\n",
            "|8477908640|NULL                         |NULL                         |NULL                            |\n",
            "|99030127  |NULL                         |NULL                         |NULL                            |\n",
            "|4006905000|NULL                         |NULL                         |NULL                            |\n",
            "|4011201025|NULL                         |NULL                         |NULL                            |\n",
            "|8481803090|NULL                         |NULL                         |NULL                            |\n",
            "|4004000000|NULL                         |NULL                         |NULL                            |\n",
            "+----------+-----------------------------+-----------------------------+--------------------------------+\n",
            "only showing top 20 rows\n",
            "\n",
            "root\n",
            " |-- HTS Number: string (nullable = true)\n",
            " |-- Total Line Tariff Duty Amount: double (nullable = true)\n",
            " |-- Total Antidumping Duty Amount: double (nullable = true)\n",
            " |-- Total Countervailing Duty Amount: double (nullable = true)\n",
            "\n"
          ]
        }
      ]
    },
    {
      "cell_type": "code",
      "source": [
        "out_dir = \"/content/ace_cleaned\"\n",
        "final.coalesce(1).write.mode(\"overwrite\").option(\"header\", True).csv(out_dir)\n",
        "print(\"CSV escrito em:\", out_dir)"
      ],
      "metadata": {
        "colab": {
          "base_uri": "https://localhost:8080/"
        },
        "id": "68loUaZPP5AG",
        "outputId": "8c3b1093-3a64-4b31-ad2d-5261f989f263"
      },
      "execution_count": 18,
      "outputs": [
        {
          "output_type": "stream",
          "name": "stdout",
          "text": [
            "CSV escrito em: /content/ace_cleaned\n"
          ]
        }
      ]
    },
    {
      "cell_type": "code",
      "source": [
        "parts = glob.glob(os.path.join(out_dir, \"part-*.csv\"))\n",
        "if parts:\n",
        "    from google.colab import files\n",
        "    files.download(parts[0])\n",
        "else:\n",
        "    print(\"FILE NOT FOUND\")"
      ],
      "metadata": {
        "colab": {
          "base_uri": "https://localhost:8080/",
          "height": 17
        },
        "id": "8USj-3rbQAH8",
        "outputId": "3de9f6c1-f151-4566-bc78-6402086ca37f"
      },
      "execution_count": 21,
      "outputs": [
        {
          "output_type": "display_data",
          "data": {
            "text/plain": [
              "<IPython.core.display.Javascript object>"
            ],
            "application/javascript": [
              "\n",
              "    async function download(id, filename, size) {\n",
              "      if (!google.colab.kernel.accessAllowed) {\n",
              "        return;\n",
              "      }\n",
              "      const div = document.createElement('div');\n",
              "      const label = document.createElement('label');\n",
              "      label.textContent = `Downloading \"${filename}\": `;\n",
              "      div.appendChild(label);\n",
              "      const progress = document.createElement('progress');\n",
              "      progress.max = size;\n",
              "      div.appendChild(progress);\n",
              "      document.body.appendChild(div);\n",
              "\n",
              "      const buffers = [];\n",
              "      let downloaded = 0;\n",
              "\n",
              "      const channel = await google.colab.kernel.comms.open(id);\n",
              "      // Send a message to notify the kernel that we're ready.\n",
              "      channel.send({})\n",
              "\n",
              "      for await (const message of channel.messages) {\n",
              "        // Send a message to notify the kernel that we're ready.\n",
              "        channel.send({})\n",
              "        if (message.buffers) {\n",
              "          for (const buffer of message.buffers) {\n",
              "            buffers.push(buffer);\n",
              "            downloaded += buffer.byteLength;\n",
              "            progress.value = downloaded;\n",
              "          }\n",
              "        }\n",
              "      }\n",
              "      const blob = new Blob(buffers, {type: 'application/binary'});\n",
              "      const a = document.createElement('a');\n",
              "      a.href = window.URL.createObjectURL(blob);\n",
              "      a.download = filename;\n",
              "      div.appendChild(a);\n",
              "      a.click();\n",
              "      div.remove();\n",
              "    }\n",
              "  "
            ]
          },
          "metadata": {}
        },
        {
          "output_type": "display_data",
          "data": {
            "text/plain": [
              "<IPython.core.display.Javascript object>"
            ],
            "application/javascript": [
              "download(\"download_03a9517e-b07d-4178-8e9a-ba3435e3ef0e\", \"part-00000-0a178b4e-535e-477e-a793-9f4bda1629e1-c000.csv\", 4046)"
            ]
          },
          "metadata": {}
        }
      ]
    }
  ]
}