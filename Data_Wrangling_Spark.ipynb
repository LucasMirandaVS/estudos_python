{
  "nbformat": 4,
  "nbformat_minor": 0,
  "metadata": {
    "colab": {
      "provenance": [],
      "authorship_tag": "ABX9TyO017Aq2qo745hAeDykM80j",
      "include_colab_link": true
    },
    "kernelspec": {
      "name": "python3",
      "display_name": "Python 3"
    },
    "language_info": {
      "name": "python"
    }
  },
  "cells": [
    {
      "cell_type": "markdown",
      "metadata": {
        "id": "view-in-github",
        "colab_type": "text"
      },
      "source": [
        "<a href=\"https://colab.research.google.com/github/LucasMirandaVS/estudos_python/blob/main/Data_Wrangling_Spark.ipynb\" target=\"_parent\"><img src=\"https://colab.research.google.com/assets/colab-badge.svg\" alt=\"Open In Colab\"/></a>"
      ]
    },
    {
      "cell_type": "markdown",
      "source": [
        "#0. Dependencies"
      ],
      "metadata": {
        "id": "_7IzhA8ZOAth"
      }
    },
    {
      "cell_type": "code",
      "execution_count": 93,
      "metadata": {
        "colab": {
          "base_uri": "https://localhost:8080/"
        },
        "id": "uD9uVq8kMOPr",
        "outputId": "11990ddc-52e5-4ca8-e8d7-6a3e057fbef9"
      },
      "outputs": [
        {
          "output_type": "stream",
          "name": "stdout",
          "text": [
            "Requirement already satisfied: pyspark==3.5.1 in /usr/local/lib/python3.11/dist-packages (3.5.1)\n",
            "Requirement already satisfied: py4j==0.10.9.7 in /usr/local/lib/python3.11/dist-packages (from pyspark==3.5.1) (0.10.9.7)\n"
          ]
        }
      ],
      "source": [
        "pip install pyspark==3.5.1"
      ]
    },
    {
      "cell_type": "code",
      "source": [
        "import glob, os\n",
        "from google.colab import files\n",
        "from pyspark.sql import SparkSession\n",
        "from pyspark.sql.utils import AnalysisException\n",
        "from pyspark.sql.window import Window\n",
        "from pyspark.sql import functions as F"
      ],
      "metadata": {
        "id": "bYenQz-RN5mn"
      },
      "execution_count": 94,
      "outputs": []
    },
    {
      "cell_type": "code",
      "source": [
        "spark = SparkSession.builder.appName(\"ace-tariffs-cleaning\").getOrCreate()"
      ],
      "metadata": {
        "id": "cg7dIUtROH2n"
      },
      "execution_count": 95,
      "outputs": []
    },
    {
      "cell_type": "markdown",
      "source": [
        "#1. Defining the Data"
      ],
      "metadata": {
        "id": "0ama_9jjOKD4"
      }
    },
    {
      "cell_type": "code",
      "source": [
        "path = \"/content/raw_data.csv/raw_data.csv\"\n",
        "df = (spark.read\n",
        "      .option(\"header\", True)\n",
        "      .option(\"inferSchema\", True)\n",
        "      .csv(path))"
      ],
      "metadata": {
        "id": "KTct3NGXrmme"
      },
      "execution_count": 96,
      "outputs": []
    },
    {
      "cell_type": "code",
      "source": [
        "DROP_COLS = [\n",
        "    \"Line Tariff Quantity (2)\",\n",
        "    \"Line Tariff UOM (2) Code\",\n",
        "    \"Line Tariff Quantity (3)\",\n",
        "    \"Line Tariff UOM (3) Code\",\n",
        "    \"Line Tariff Quantity\",\n",
        "    \"Line Tariff UOM (1) Code\",\n",
        "    \"Line Tariff Goods Value Amount\",\n",
        "    \"Line Tariff Quantity (1)\"\n",
        "]"
      ],
      "metadata": {
        "id": "RYJ3x4hAu-8J"
      },
      "execution_count": 99,
      "outputs": []
    },
    {
      "cell_type": "code",
      "source": [
        "def to_double(colname: str):\n",
        "    s = F.col(colname).cast(\"string\")\n",
        "    s = F.regexp_replace(s, r\"\\s+\", \"\")\n",
        "    s = F.regexp_replace(s, r\"\\$\", \"\")\n",
        "    s = F.regexp_replace(s, r\",\", \"\")\n",
        "    s = F.regexp_replace(s, r\"^\\((.*)\\)$\", r\"-\\1\")\n",
        "    s = F.regexp_replace(s, r\"^-$\", \"0\")\n",
        "    return s.cast(\"double\")"
      ],
      "metadata": {
        "id": "WuQXV3hbrxmW"
      },
      "execution_count": 100,
      "outputs": []
    },
    {
      "cell_type": "markdown",
      "source": [
        "# 2. Adding new column"
      ],
      "metadata": {
        "id": "qSccdyuBR0p1"
      }
    },
    {
      "cell_type": "code",
      "source": [
        "df = df.withColumn(\n",
        "    \"entry_type_key\",\n",
        "    F.concat_ws(\"-\", F.col(COL_ENTRY).cast(\"string\"), F.col(COL_TYPE).cast(\"string\"))\n",
        ")"
      ],
      "metadata": {
        "id": "DVfhkuldrv6A"
      },
      "execution_count": 102,
      "outputs": []
    },
    {
      "cell_type": "markdown",
      "source": [
        "# 3. Aggregating Tariff Columns"
      ],
      "metadata": {
        "id": "uZEppIHZSB0H"
      }
    },
    {
      "cell_type": "code",
      "source": [
        "agg_exprs = {c: F.sum(to_double(c)).alias(c + \" (Aggregated)\") for c in TARIFF_COLS}"
      ],
      "metadata": {
        "id": "QB5uRHU1r9k-"
      },
      "execution_count": 103,
      "outputs": []
    },
    {
      "cell_type": "markdown",
      "source": [
        "# 4. Cleaning Uncessary Records"
      ],
      "metadata": {
        "id": "DGSWtLJSSd_E"
      }
    },
    {
      "cell_type": "code",
      "source": [
        "other_cols = [c for c in df.columns if c not in (TARIFF_COLS + [COL_ENTRY, COL_TYPE, \"entry_type_key\"])]\n",
        "\n",
        "final = (\n",
        "    df.groupBy(\"entry_type_key\")\n",
        "      .agg(\n",
        "          F.first(F.col(COL_ENTRY), ignorenulls=True).alias(COL_ENTRY),\n",
        "          F.first(F.col(COL_TYPE),  ignorenulls=True).alias(COL_TYPE),\n",
        "          *[agg_exprs[c] for c in TARIFF_COLS],\n",
        "          *[F.first(F.col(c), ignorenulls=True).alias(c) for c in other_cols]\n",
        "      )\n",
        ")"
      ],
      "metadata": {
        "id": "pT6j6o4rsBHP"
      },
      "execution_count": 105,
      "outputs": []
    },
    {
      "cell_type": "code",
      "source": [
        "final = final.drop(*[c for c in DROP_COLS if c in final.columns])"
      ],
      "metadata": {
        "id": "vsoGyvvmyFBz"
      },
      "execution_count": 107,
      "outputs": []
    },
    {
      "cell_type": "code",
      "source": [
        "final.show(20, truncate=False)"
      ],
      "metadata": {
        "colab": {
          "base_uri": "https://localhost:8080/"
        },
        "id": "4QqBOZkXuoRp",
        "outputId": "489c6d91-4022-41bb-f1a2-bedb523f7b8b"
      },
      "execution_count": 108,
      "outputs": [
        {
          "output_type": "stream",
          "name": "stdout",
          "text": [
            "+--------------+--------------------+---------------+------------------------------------+----------------------------+----------------------------+------------------------------------+---------------------------------------+---------------+------------------+----------+------------------+---------------------------------+-------------------------+----------------------+----------------------+---------------+-------------------+-------------+---------------------+-----------------+------------------------------------------------------------+\n",
            "|entry_type_key|Entry Summary Number|Entry Type Code|Line Tariff Duty Amount (Aggregated)|Line MPF Amount (Aggregated)|Line HMF Amount (Aggregated)|Antidumping Duty Amount (Aggregated)|Countervailing Duty Amount (Aggregated)|Importer Number|Port of Entry Code|Entry Date|Entry Summary Date|Initial Entry Summary Create Date|Entry Summary Line Number|Country of Origin Code|Country of Export Code|Manufacturer ID|Foreign Exporter ID|Line SPI Code|Tariff Ordinal Number|HTS Number - Full|HTS Long Description                                        |\n",
            "+--------------+--------------------+---------------+------------------------------------+----------------------------+----------------------------+------------------------------------+---------------------------------------+---------------+------------------+----------+------------------+---------------------------------+-------------------------+----------------------+----------------------+---------------+-------------------+-------------+---------------------+-----------------+------------------------------------------------------------+\n",
            "|30007552391-1 |30007552391         |1              |0.0                                 |0.0                         |0.0                         |0.0                                 |0.0                                    |11-172463100   |106               |07/01/2025|07/15/2025        |07/14/2025                       |1                        |XN                    |CA                    |XNMICNOR399NEW |NULL               |S            |1                    |99030114         |CANADA IEEPA EO FREE USMCA                                  |\n",
            "|30007560336-1 |30007560336         |1              |8.5275                              |35448.0                     |0.0                         |0.0                                 |0.0                                    |11-172463100   |106               |07/06/2025|07/17/2025        |07/16/2025                       |1                        |XN                    |CA                    |XNMICNOR2863NEW|NULL               |NULL         |1                    |99030110         |CANADA IEEPA EO 35% DUTY                                    |\n",
            "|30031404000-1 |30031404000         |1              |0.0                                 |0.0                         |0.0                         |0.0                                 |0.0                                    |11-172463100   |106               |07/02/2025|07/16/2025        |07/02/2025                       |1                        |XN                    |CA                    |XNMICNOR399NEW |NULL               |S            |1                    |99030114         |CANADA IEEPA EO FREE USMCA                                  |\n",
            "|30031668323-1 |30031668323         |1              |1104880.0                           |54680.0                     |0.0                         |0.0                                 |0.0                                    |11-172463100   |3801              |07/07/2025|07/18/2025        |07/14/2025                       |1                        |ES                    |CA                    |XNMICNOR399NEW |NULL               |NULL         |1                    |99030125         |PRDTS ANY CTRY,EXCPT PRD DESC N 99030126-99030134,SUB(V)NTE2|\n",
            "|30031721783-1 |30031721783         |1              |0.0                                 |0.0                         |0.0                         |0.0                                 |0.0                                    |11-172463100   |3802              |07/16/2025|07/07/2025        |07/01/2025                       |1                        |XN                    |CA                    |XNMICNOR399NEW |NULL               |S            |1                    |99030114         |CANADA IEEPA EO FREE USMCA                                  |\n",
            "|30031957445-1 |30031957445         |1              |0.0                                 |0.0                         |0.0                         |0.0                                 |0.0                                    |11-172463100   |3802              |07/07/2025|07/18/2025        |07/07/2025                       |1                        |XN                    |CA                    |XNMICNOR399NEW |NULL               |S            |1                    |99030114         |CANADA IEEPA EO FREE USMCA                                  |\n",
            "|30031970505-1 |30031970505         |1              |0.0                                 |0.0                         |0.0                         |0.0                                 |0.0                                    |11-172463100   |3801              |07/07/2025|07/18/2025        |07/15/2025                       |1                        |US                    |CA                    |XNMICNOR399NEW |NULL               |S            |1                    |4011201005       |NEW PNEU TIRES OF RUBBER, LIGHT TRUCK FOR HIGHWAY,RADIAL    |\n",
            "|30031997318-1 |30031997318         |1              |0.0                                 |0.0                         |0.0                         |0.0                                 |0.0                                    |11-172463100   |3802              |07/08/2025|07/21/2025        |07/18/2025                       |1                        |XN                    |CA                    |XNMICNOR399NEW |NULL               |S            |1                    |99030114         |CANADA IEEPA EO FREE USMCA                                  |\n",
            "|30031998001-1 |30031998001         |1              |0.0                                 |0.0                         |0.0                         |0.0                                 |0.0                                    |11-172463100   |3802              |07/09/2025|07/22/2025        |07/21/2025                       |1                        |XN                    |CA                    |XNMICNOR399NEW |NULL               |S            |1                    |99030114         |CANADA IEEPA EO FREE USMCA                                  |\n",
            "|30032045588-1 |30032045588         |1              |0.0                                 |0.0                         |0.0                         |0.0                                 |0.0                                    |11-172463100   |3802              |07/09/2025|07/22/2025        |07/21/2025                       |1                        |XN                    |CA                    |XNMICNOR399NEW |NULL               |S            |1                    |99030114         |CANADA IEEPA EO FREE USMCA                                  |\n",
            "|30032148663-1 |30032148663         |1              |0.0                                 |0.0                         |0.0                         |0.0                                 |0.0                                    |11-172463100   |3604              |07/15/2025|07/28/2025        |07/24/2025                       |1                        |XN                    |CA                    |XNMICNOR399NEW |NULL               |S            |1                    |99030114         |CANADA IEEPA EO FREE USMCA                                  |\n",
            "|30032199245-1 |30032199245         |1              |110250.0                            |7926.0                      |0.0                         |0.0                                 |0.0                                    |11-172463100   |901               |07/17/2025|07/31/2025        |07/30/2025                       |1                        |TH                    |CA                    |XOHOPAER7605MIS|NULL               |NULL         |1                    |99030125         |PRDTS ANY CTRY,EXCPT PRD DESC N 99030126-99030134,SUB(V)NTE2|\n",
            "|30032213483-1 |30032213483         |1              |0.0                                 |0.0                         |0.0                         |0.0                                 |0.0                                    |11-172463100   |3604              |07/21/2025|08/01/2025        |07/30/2025                       |1                        |US                    |CA                    |XNMICNOR399NEW |NULL               |S            |1                    |4011201015       |NEW PNEU TIRES, OF RUBBER,BUS OR TRUCK,HIGHWAY:RDL:OTHER    |\n",
            "|30032229844-3 |30032229844         |3              |283050.0                            |6625.0                      |0.0                         |14.623                              |5.854150000000001                      |11-172463100   |3604              |07/27/2025|08/07/2025        |07/31/2025                       |1                        |US                    |CA                    |XNMICNOR399NEW |CNMICSHE15SHE      |S            |1                    |4011201005       |NEW PNEU TIRES OF RUBBER, LIGHT TRUCK FOR HIGHWAY,RADIAL    |\n",
            "|30032294764-1 |30032294764         |1              |0.0                                 |0.0                         |0.0                         |0.0                                 |0.0                                    |11-172463100   |3802              |07/24/2025|08/06/2025        |07/30/2025                       |1                        |XN                    |CA                    |XNMICNOR399NEW |NULL               |S            |1                    |99030114         |CANADA IEEPA EO FREE USMCA                                  |\n",
            "|30032317672-1 |30032317672         |1              |0.0                                 |0.0                         |0.0                         |0.0                                 |0.0                                    |11-172463100   |901               |07/24/2025|08/06/2025        |07/31/2025                       |1                        |XN                    |CA                    |XNMICNOR399NEW |NULL               |S            |1                    |99030114         |CANADA IEEPA EO FREE USMCA                                  |\n",
            "|30032389630-1 |30032389630         |1              |0.0                                 |0.0                         |0.0                         |0.0                                 |0.0                                    |11-172463100   |3801              |07/28/2025|08/08/2025        |08/04/2025                       |1                        |XN                    |CA                    |XNMICNOR399NEW |NULL               |S            |1                    |99030114         |CANADA IEEPA EO FREE USMCA                                  |\n",
            "|30075045718-3 |30075045718         |3              |54224.65757                         |118971.0                    |0.0                         |42.34653000000001                   |0.0                                    |11-172463100   |901               |07/28/2025|08/08/2025        |08/04/2025                       |1                        |TH                    |CA                    |THMICSIA57SAR  |THMICSIA57SAR      |NULL         |1                    |99030133         |IEEPA-RECIPR EXCL SEC232, AUTO, AUTO PARTS, IRON, STEEL,ALUM|\n",
            "|30075447823-1 |30075447823         |1              |0.0                                 |0.0                         |0.0                         |0.0                                 |0.0                                    |11-172463100   |3802              |07/06/2025|07/17/2025        |07/16/2025                       |1                        |XN                    |CA                    |XNMICNOR399NEW |NULL               |S            |1                    |99030114         |CANADA IEEPA EO FREE USMCA                                  |\n",
            "|30075462673-1 |30075462673         |1              |0.0                                 |0.0                         |0.0                         |0.0                                 |0.0                                    |11-172463100   |3802              |07/01/2025|07/15/2025        |07/01/2025                       |1                        |XN                    |CA                    |XNMICNOR399NEW |NULL               |S            |1                    |99030114         |CANADA IEEPA EO FREE USMCA                                  |\n",
            "+--------------+--------------------+---------------+------------------------------------+----------------------------+----------------------------+------------------------------------+---------------------------------------+---------------+------------------+----------+------------------+---------------------------------+-------------------------+----------------------+----------------------+---------------+-------------------+-------------+---------------------+-----------------+------------------------------------------------------------+\n",
            "only showing top 20 rows\n",
            "\n"
          ]
        }
      ]
    },
    {
      "cell_type": "markdown",
      "source": [
        "# 5. Exportinng the Final Table"
      ],
      "metadata": {
        "id": "Chz95myrsEOH"
      }
    },
    {
      "cell_type": "code",
      "source": [
        "out_dir = \"/content/ace_final\""
      ],
      "metadata": {
        "id": "qw9JmXNJsHpn"
      },
      "execution_count": 109,
      "outputs": []
    },
    {
      "cell_type": "code",
      "source": [
        "final.coalesce(1).write.mode(\"overwrite\").option(\"header\", True).csv(out_dir)\n",
        "print(\"Resultado salvo em:\", out_dir)"
      ],
      "metadata": {
        "colab": {
          "base_uri": "https://localhost:8080/"
        },
        "id": "_BTRFHHQsQnA",
        "outputId": "3f2486c3-4386-4a37-97b7-6d053df21ec8"
      },
      "execution_count": 110,
      "outputs": [
        {
          "output_type": "stream",
          "name": "stdout",
          "text": [
            "Resultado salvo em: /content/ace_final\n"
          ]
        }
      ]
    }
  ]
}