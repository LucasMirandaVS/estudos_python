{
  "nbformat": 4,
  "nbformat_minor": 0,
  "metadata": {
    "colab": {
      "provenance": [],
      "authorship_tag": "ABX9TyNB83TZ+qd7gce6CHaoKRKu",
      "include_colab_link": true
    },
    "kernelspec": {
      "name": "python3",
      "display_name": "Python 3"
    },
    "language_info": {
      "name": "python"
    }
  },
  "cells": [
    {
      "cell_type": "markdown",
      "metadata": {
        "id": "view-in-github",
        "colab_type": "text"
      },
      "source": [
        "<a href=\"https://colab.research.google.com/github/LucasMirandaVS/estudos_python/blob/main/Data_Wrangling_Spark.ipynb\" target=\"_parent\"><img src=\"https://colab.research.google.com/assets/colab-badge.svg\" alt=\"Open In Colab\"/></a>"
      ]
    },
    {
      "cell_type": "markdown",
      "source": [
        "#0. Dependencies"
      ],
      "metadata": {
        "id": "_7IzhA8ZOAth"
      }
    },
    {
      "cell_type": "code",
      "execution_count": 33,
      "metadata": {
        "colab": {
          "base_uri": "https://localhost:8080/"
        },
        "id": "uD9uVq8kMOPr",
        "outputId": "3a1fc2d0-2e24-4060-f426-cada92b3d5c1"
      },
      "outputs": [
        {
          "output_type": "stream",
          "name": "stdout",
          "text": [
            "Requirement already satisfied: pyspark==3.5.1 in /usr/local/lib/python3.11/dist-packages (3.5.1)\n",
            "Requirement already satisfied: py4j==0.10.9.7 in /usr/local/lib/python3.11/dist-packages (from pyspark==3.5.1) (0.10.9.7)\n"
          ]
        }
      ],
      "source": [
        "pip install pyspark==3.5.1"
      ]
    },
    {
      "cell_type": "code",
      "source": [
        "import glob, os\n",
        "from google.colab import files\n",
        "from pyspark.sql import SparkSession\n",
        "from pyspark.sql.utils import AnalysisException\n",
        "from pyspark.sql.window import Window\n",
        "from pyspark.sql import functions as F"
      ],
      "metadata": {
        "id": "bYenQz-RN5mn"
      },
      "execution_count": 34,
      "outputs": []
    },
    {
      "cell_type": "code",
      "source": [
        "spark = SparkSession.builder.appName(\"ace-tariffs-cleaning\").getOrCreate()"
      ],
      "metadata": {
        "id": "cg7dIUtROH2n"
      },
      "execution_count": 35,
      "outputs": []
    },
    {
      "cell_type": "markdown",
      "source": [
        "#1. Defining the Data"
      ],
      "metadata": {
        "id": "0ama_9jjOKD4"
      }
    },
    {
      "cell_type": "code",
      "source": [
        "path = \"/content/raw_data.csv/raw_data.csv\"\n",
        "df = (spark.read\n",
        "      .option(\"header\", True)\n",
        "      .option(\"inferSchema\", True)\n",
        "      .csv(path))"
      ],
      "metadata": {
        "id": "KTct3NGXrmme"
      },
      "execution_count": 37,
      "outputs": []
    },
    {
      "cell_type": "code",
      "source": [
        "COL_ENTRY = \"Entry Summary Number\"\n",
        "COL_TYPE  = \"Entry Type Code\"\n",
        "TARIFF_COLS = [\n",
        "    \"Line Tariff Duty Amount\",\n",
        "    \"Line MPF Amount\",\n",
        "    \"Line HMF Amount\",\n",
        "    \"Antidumping Duty Amount\",\n",
        "    \"Countervailing Duty Amount\",\n",
        "]"
      ],
      "metadata": {
        "id": "9wwVH4V7rshH"
      },
      "execution_count": 38,
      "outputs": []
    },
    {
      "cell_type": "code",
      "source": [
        "def to_double(colname: str):\n",
        "    s = F.col(colname).cast(\"string\")\n",
        "    s = F.regexp_replace(s, r\"\\s+\", \"\")\n",
        "    s = F.regexp_replace(s, r\"\\$\", \"\")\n",
        "    s = F.regexp_replace(s, r\",\", \"\")\n",
        "    s = F.regexp_replace(s, r\"^\\((.*)\\)$\", r\"-\\1\")\n",
        "    return s.cast(\"double\")"
      ],
      "metadata": {
        "id": "WuQXV3hbrxmW"
      },
      "execution_count": 40,
      "outputs": []
    },
    {
      "cell_type": "markdown",
      "source": [
        "# 2. Adding new column"
      ],
      "metadata": {
        "id": "qSccdyuBR0p1"
      }
    },
    {
      "cell_type": "code",
      "source": [
        "df = df.withColumn(\n",
        "    \"entry_type_key\",\n",
        "    F.concat_ws(\"-\", F.col(COL_ENTRY).cast(\"string\"), F.col(COL_TYPE).cast(\"string\"))\n",
        ")"
      ],
      "metadata": {
        "id": "DVfhkuldrv6A"
      },
      "execution_count": 41,
      "outputs": []
    },
    {
      "cell_type": "markdown",
      "source": [
        "# 3. Aggregating Tariff Columns"
      ],
      "metadata": {
        "id": "uZEppIHZSB0H"
      }
    },
    {
      "cell_type": "code",
      "source": [
        "agg_exprs = {c: F.sum(to_double(c)).alias(c) for c in TARIFF_COLS}"
      ],
      "metadata": {
        "id": "QB5uRHU1r9k-"
      },
      "execution_count": 42,
      "outputs": []
    },
    {
      "cell_type": "markdown",
      "source": [
        "# 4. Cleaning Uncessary Records"
      ],
      "metadata": {
        "id": "DGSWtLJSSd_E"
      }
    },
    {
      "cell_type": "code",
      "source": [
        "other_cols = [c for c in df.columns if c not in (TARIFF_COLS + [COL_ENTRY, COL_TYPE, \"entry_type_key\"])]\n",
        "\n",
        "final = (\n",
        "    df.groupBy(\"entry_type_key\")\n",
        "      .agg(\n",
        "          F.first(F.col(COL_ENTRY), ignorenulls=True).alias(COL_ENTRY),\n",
        "          F.first(F.col(COL_TYPE),  ignorenulls=True).alias(COL_TYPE),\n",
        "          *[agg_exprs[c] for c in TARIFF_COLS],\n",
        "          *[F.first(F.col(c), ignorenulls=True).alias(c) for c in other_cols]\n",
        "      )\n",
        ")"
      ],
      "metadata": {
        "id": "pT6j6o4rsBHP"
      },
      "execution_count": 43,
      "outputs": []
    },
    {
      "cell_type": "markdown",
      "source": [
        "# 5. Exportinng the Final Table"
      ],
      "metadata": {
        "id": "Chz95myrsEOH"
      }
    },
    {
      "cell_type": "code",
      "source": [
        "final.select(\n",
        "    \"entry_type_key\",\n",
        "    COL_ENTRY,\n",
        "    COL_TYPE,\n",
        "    *TARIFF_COLS,\n",
        "    *other_cols\n",
        ").show(20, truncate=False)"
      ],
      "metadata": {
        "colab": {
          "base_uri": "https://localhost:8080/"
        },
        "id": "qw9JmXNJsHpn",
        "outputId": "8488f9b9-ed93-4b15-a040-175e99e06dfb"
      },
      "execution_count": 44,
      "outputs": [
        {
          "output_type": "stream",
          "name": "stdout",
          "text": [
            "+--------------+--------------------+---------------+-----------------------+---------------+---------------+-----------------------+--------------------------+---------------+------------------+----------+------------------+---------------------------------+-------------------------+----------------------+----------------------+---------------+-------------------+-------------+---------------------+-----------------+------------------------------------------------------------+------------------------+------------------------+------------------------+------------------------+------------------------+------------------------+------------------------------+\n",
            "|entry_type_key|Entry Summary Number|Entry Type Code|Line Tariff Duty Amount|Line MPF Amount|Line HMF Amount|Antidumping Duty Amount|Countervailing Duty Amount|Importer Number|Port of Entry Code|Entry Date|Entry Summary Date|Initial Entry Summary Create Date|Entry Summary Line Number|Country of Origin Code|Country of Export Code|Manufacturer ID|Foreign Exporter ID|Line SPI Code|Tariff Ordinal Number|HTS Number - Full|HTS Long Description                                        |Line Tariff Quantity (1)|Line Tariff UOM (1) Code|Line Tariff Quantity (2)|Line Tariff UOM (2) Code|Line Tariff Quantity (3)|Line Tariff UOM (3) Code|Line Tariff Goods Value Amount|\n",
            "+--------------+--------------------+---------------+-----------------------+---------------+---------------+-----------------------+--------------------------+---------------+------------------+----------+------------------+---------------------------------+-------------------------+----------------------+----------------------+---------------+-------------------+-------------+---------------------+-----------------+------------------------------------------------------------+------------------------+------------------------+------------------------+------------------------+------------------------+------------------------+------------------------------+\n",
            "|30007552391-1 |30007552391         |1              |0.0                    |0.0            |0.0            |0.0                    |0.0                       |11-172463100   |106               |07/01/2025|07/15/2025        |07/14/2025                       |1                        |XN                    |CA                    |XNMICNOR399NEW |NULL               |S            |1                    |99030114         |CANADA IEEPA EO FREE USMCA                                  |3,00                    |NO                      |NULL                    |NULL                    |NULL                    |NULL                    |$0,00                         |\n",
            "|30007560336-1 |30007560336         |1              |8.5275                 |35448.0        |0.0            |0.0                    |0.0                       |11-172463100   |106               |07/06/2025|07/17/2025        |07/16/2025                       |1                        |XN                    |CA                    |XNMICNOR2863NEW|NULL               |NULL         |1                    |99030110         |CANADA IEEPA EO 35% DUTY                                    |11.885,00               |KG                      |NULL                    |NULL                    |NULL                    |NULL                    |$0,00                         |\n",
            "|30031404000-1 |30031404000         |1              |0.0                    |0.0            |0.0            |0.0                    |0.0                       |11-172463100   |106               |07/02/2025|07/16/2025        |07/02/2025                       |1                        |XN                    |CA                    |XNMICNOR399NEW |NULL               |S            |1                    |99030114         |CANADA IEEPA EO FREE USMCA                                  |17,00                   |NO                      |NULL                    |NULL                    |NULL                    |NULL                    |$0,00                         |\n",
            "|30031668323-1 |30031668323         |1              |1104880.0              |54680.0        |0.0            |0.0                    |0.0                       |11-172463100   |3801              |07/07/2025|07/18/2025        |07/14/2025                       |1                        |ES                    |CA                    |XNMICNOR399NEW |NULL               |NULL         |1                    |99030125         |PRDTS ANY CTRY,EXCPT PRD DESC N 99030126-99030134,SUB(V)NTE2|1,00                    |NO                      |NULL                    |NULL                    |NULL                    |NULL                    |$0,00                         |\n",
            "|30031721783-1 |30031721783         |1              |0.0                    |0.0            |0.0            |0.0                    |0.0                       |11-172463100   |3802              |07/16/2025|07/07/2025        |07/01/2025                       |1                        |XN                    |CA                    |XNMICNOR399NEW |NULL               |S            |1                    |99030114         |CANADA IEEPA EO FREE USMCA                                  |28,00                   |NO                      |NULL                    |NULL                    |NULL                    |NULL                    |$0,00                         |\n",
            "|30031957445-1 |30031957445         |1              |0.0                    |0.0            |0.0            |0.0                    |0.0                       |11-172463100   |3802              |07/07/2025|07/18/2025        |07/07/2025                       |1                        |XN                    |CA                    |XNMICNOR399NEW |NULL               |S            |1                    |99030114         |CANADA IEEPA EO FREE USMCA                                  |156,00                  |NO                      |NULL                    |NULL                    |NULL                    |NULL                    |$0,00                         |\n",
            "|30031970505-1 |30031970505         |1              |0.0                    |0.0            |0.0            |0.0                    |0.0                       |11-172463100   |3801              |07/07/2025|07/18/2025        |07/15/2025                       |1                        |US                    |CA                    |XNMICNOR399NEW |NULL               |S            |1                    |4011201005       |NEW PNEU TIRES OF RUBBER, LIGHT TRUCK FOR HIGHWAY,RADIAL    |4,00                    |NO                      |NULL                    |NULL                    |NULL                    |NULL                    |$973,00                       |\n",
            "|30031997318-1 |30031997318         |1              |0.0                    |0.0            |0.0            |0.0                    |0.0                       |11-172463100   |3802              |07/08/2025|07/21/2025        |07/18/2025                       |1                        |XN                    |CA                    |XNMICNOR399NEW |NULL               |S            |1                    |99030114         |CANADA IEEPA EO FREE USMCA                                  |7,00                    |NO                      |NULL                    |NULL                    |NULL                    |NULL                    |$0,00                         |\n",
            "|30031998001-1 |30031998001         |1              |0.0                    |0.0            |0.0            |0.0                    |0.0                       |11-172463100   |3802              |07/09/2025|07/22/2025        |07/21/2025                       |1                        |XN                    |CA                    |XNMICNOR399NEW |NULL               |S            |1                    |99030114         |CANADA IEEPA EO FREE USMCA                                  |28,00                   |NO                      |NULL                    |NULL                    |NULL                    |NULL                    |$0,00                         |\n",
            "|30032045588-1 |30032045588         |1              |0.0                    |0.0            |0.0            |0.0                    |0.0                       |11-172463100   |3802              |07/09/2025|07/22/2025        |07/21/2025                       |1                        |XN                    |CA                    |XNMICNOR399NEW |NULL               |S            |1                    |99030114         |CANADA IEEPA EO FREE USMCA                                  |28,00                   |NO                      |NULL                    |NULL                    |NULL                    |NULL                    |$0,00                         |\n",
            "|30032148663-1 |30032148663         |1              |0.0                    |0.0            |0.0            |0.0                    |0.0                       |11-172463100   |3604              |07/15/2025|07/28/2025        |07/24/2025                       |1                        |XN                    |CA                    |XNMICNOR399NEW |NULL               |S            |1                    |99030114         |CANADA IEEPA EO FREE USMCA                                  |12,00                   |NO                      |NULL                    |NULL                    |NULL                    |NULL                    |$0,00                         |\n",
            "|30032199245-1 |30032199245         |1              |110250.0               |7926.0         |0.0            |0.0                    |0.0                       |11-172463100   |901               |07/17/2025|07/31/2025        |07/30/2025                       |1                        |TH                    |CA                    |XOHOPAER7605MIS|NULL               |NULL         |1                    |99030125         |PRDTS ANY CTRY,EXCPT PRD DESC N 99030126-99030134,SUB(V)NTE2|5,00                    |NO                      |NULL                    |NULL                    |NULL                    |NULL                    |$0,00                         |\n",
            "|30032213483-1 |30032213483         |1              |0.0                    |0.0            |0.0            |0.0                    |0.0                       |11-172463100   |3604              |07/21/2025|08/01/2025        |07/30/2025                       |1                        |US                    |CA                    |XNMICNOR399NEW |NULL               |S            |1                    |4011201015       |NEW PNEU TIRES, OF RUBBER,BUS OR TRUCK,HIGHWAY:RDL:OTHER    |56,00                   |NO                      |NULL                    |NULL                    |NULL                    |NULL                    |$12.970,00                    |\n",
            "|30032229844-3 |30032229844         |3              |283050.0               |6625.0         |0.0            |14.623                 |5.854150000000001         |11-172463100   |3604              |07/27/2025|08/07/2025        |07/31/2025                       |1                        |US                    |CA                    |XNMICNOR399NEW |CNMICSHE15SHE      |S            |1                    |4011201005       |NEW PNEU TIRES OF RUBBER, LIGHT TRUCK FOR HIGHWAY,RADIAL    |23,00                   |NO                      |NULL                    |NULL                    |NULL                    |NULL                    |$3.915,00                     |\n",
            "|30032294764-1 |30032294764         |1              |0.0                    |0.0            |0.0            |0.0                    |0.0                       |11-172463100   |3802              |07/24/2025|08/06/2025        |07/30/2025                       |1                        |XN                    |CA                    |XNMICNOR399NEW |NULL               |S            |1                    |99030114         |CANADA IEEPA EO FREE USMCA                                  |18,00                   |NO                      |NULL                    |NULL                    |NULL                    |NULL                    |$0,00                         |\n",
            "|30032317672-1 |30032317672         |1              |0.0                    |0.0            |0.0            |0.0                    |0.0                       |11-172463100   |901               |07/24/2025|08/06/2025        |07/31/2025                       |1                        |XN                    |CA                    |XNMICNOR399NEW |NULL               |S            |1                    |99030114         |CANADA IEEPA EO FREE USMCA                                  |96,00                   |NO                      |NULL                    |NULL                    |NULL                    |NULL                    |$0,00                         |\n",
            "|30032389630-1 |30032389630         |1              |0.0                    |0.0            |0.0            |0.0                    |0.0                       |11-172463100   |3801              |07/28/2025|08/08/2025        |08/04/2025                       |1                        |XN                    |CA                    |XNMICNOR399NEW |NULL               |S            |1                    |99030114         |CANADA IEEPA EO FREE USMCA                                  |1,00                    |NO                      |NULL                    |NULL                    |NULL                    |NULL                    |$0,00                         |\n",
            "|30075045718-3 |30075045718         |3              |54224.65757            |118971.0       |0.0            |42.34653000000001      |0.0                       |11-172463100   |901               |07/28/2025|08/08/2025        |08/04/2025                       |1                        |TH                    |CA                    |THMICSIA57SAR  |THMICSIA57SAR      |NULL         |1                    |99030133         |IEEPA-RECIPR EXCL SEC232, AUTO, AUTO PARTS, IRON, STEEL,ALUM|110,00                  |NO                      |NULL                    |NULL                    |NULL                    |NULL                    |$0,00                         |\n",
            "|30075447823-1 |30075447823         |1              |0.0                    |0.0            |0.0            |0.0                    |0.0                       |11-172463100   |3802              |07/06/2025|07/17/2025        |07/16/2025                       |1                        |XN                    |CA                    |XNMICNOR399NEW |NULL               |S            |1                    |99030114         |CANADA IEEPA EO FREE USMCA                                  |190,00                  |NO                      |NULL                    |NULL                    |NULL                    |NULL                    |$0,00                         |\n",
            "|30075462673-1 |30075462673         |1              |0.0                    |0.0            |0.0            |0.0                    |0.0                       |11-172463100   |3802              |07/01/2025|07/15/2025        |07/01/2025                       |1                        |XN                    |CA                    |XNMICNOR399NEW |NULL               |S            |1                    |99030114         |CANADA IEEPA EO FREE USMCA                                  |229,00                  |NO                      |NULL                    |NULL                    |NULL                    |NULL                    |$0,00                         |\n",
            "+--------------+--------------------+---------------+-----------------------+---------------+---------------+-----------------------+--------------------------+---------------+------------------+----------+------------------+---------------------------------+-------------------------+----------------------+----------------------+---------------+-------------------+-------------+---------------------+-----------------+------------------------------------------------------------+------------------------+------------------------+------------------------+------------------------+------------------------+------------------------+------------------------------+\n",
            "only showing top 20 rows\n",
            "\n"
          ]
        }
      ]
    },
    {
      "cell_type": "code",
      "source": [
        "final.coalesce(1).write.mode(\"overwrite\").option(\"header\", True).csv(\"/content/ace_final\")"
      ],
      "metadata": {
        "id": "_BTRFHHQsQnA"
      },
      "execution_count": 45,
      "outputs": []
    }
  ]
}