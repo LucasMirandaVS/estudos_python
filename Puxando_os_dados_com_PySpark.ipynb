{
  "nbformat": 4,
  "nbformat_minor": 0,
  "metadata": {
    "colab": {
      "provenance": [],
      "authorship_tag": "ABX9TyMpFmh1fC7qEAe1+RKQhDat",
      "include_colab_link": true
    },
    "kernelspec": {
      "name": "python3",
      "display_name": "Python 3"
    },
    "language_info": {
      "name": "python"
    }
  },
  "cells": [
    {
      "cell_type": "markdown",
      "metadata": {
        "id": "view-in-github",
        "colab_type": "text"
      },
      "source": [
        "<a href=\"https://colab.research.google.com/github/LucasMirandaVS/estudos_python/blob/main/Puxando_os_dados_com_PySpark.ipynb\" target=\"_parent\"><img src=\"https://colab.research.google.com/assets/colab-badge.svg\" alt=\"Open In Colab\"/></a>"
      ]
    },
    {
      "cell_type": "code",
      "execution_count": null,
      "metadata": {
        "id": "CgxSUVxNsR_a"
      },
      "outputs": [],
      "source": [
        "# Passo 1: Instalar bibliotecas necessárias\n",
        "!pip install requests\n",
        "\n",
        "# Passo 2: Importar bibliotecas\n",
        "import requests\n",
        "\n",
        "# Passo 3: Definir variáveis\n",
        "token = \"YOUR_DATABRICKS_API_TOKEN\"  # Insira seu token aqui\n",
        "file_path = \"/mnt/amsbradls2a4a_temp/solutions/external-files/heroku/TB_HEROKU_CHAMADOS\"\n",
        "local_file_name = \"TB_HEROKU_CHAMADOS.csv\"  # Nome do arquivo que você deseja salvar\n",
        "\n",
        "# Passo 4: Fazer a requisição para baixar o arquivo\n",
        "# Replace <YOUR-DATABRICKS-WORKSPACE-URL> with your actual Databricks workspace URL.\n",
        "# For example: https://adb-1234567890123456.1.azuredatabricks.net\n",
        "url = f\"https://<YOUR-DATABRICKS-WORKSPACE-URL>/api/2.0/dbfs/read\"\n",
        "headers = {\n",
        "    \"Authorization\": f\"Bearer {token}\",\n",
        "}\n",
        "\n",
        "# Ler o arquivo do DBFS\n",
        "response = requests.get(url, headers=headers, params={\"path\": file_path})\n",
        "\n",
        "# Passo 5: Verificar a resposta e salvar o arquivo\n",
        "if response.status_code == 200:\n",
        "    # O conteúdo do arquivo está em response.content\n",
        "    with open(local_file_name, \"wb\") as file:\n",
        "        file.write(response.content)\n",
        "    print(f\"Arquivo salvo como {local_file_name}\")\n",
        "else:\n",
        "    print(f\"Erro ao acessar o arquivo: {response.text}\")"
      ]
    }
  ]
}