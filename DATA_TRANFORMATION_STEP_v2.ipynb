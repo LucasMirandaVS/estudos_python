{
  "nbformat": 4,
  "nbformat_minor": 0,
  "metadata": {
    "colab": {
      "provenance": [],
      "mount_file_id": "1zdx7s8g9AhHphcsF7nADI3QLFVZydU2R",
      "authorship_tag": "ABX9TyNBMV3dRyWYAmT57rgCuxNN",
      "include_colab_link": true
    },
    "kernelspec": {
      "name": "python3",
      "display_name": "Python 3"
    },
    "language_info": {
      "name": "python"
    }
  },
  "cells": [
    {
      "cell_type": "markdown",
      "metadata": {
        "id": "view-in-github",
        "colab_type": "text"
      },
      "source": [
        "<a href=\"https://colab.research.google.com/github/LucasMirandaVS/estudos_python/blob/main/DATA_TRANFORMATION_STEP_v2.ipynb\" target=\"_parent\"><img src=\"https://colab.research.google.com/assets/colab-badge.svg\" alt=\"Open In Colab\"/></a>"
      ]
    },
    {
      "cell_type": "markdown",
      "source": [
        "# 0. Dependencies"
      ],
      "metadata": {
        "id": "7Usgt2GLJuLi"
      }
    },
    {
      "cell_type": "code",
      "source": [
        "# -*- coding: utf-8 -*-\n",
        "# Pandas implementation of the ACE report step-by-step (English, numbered steps)\n",
        "\n",
        "import pandas as pd\n",
        "import numpy as np\n",
        "from pathlib import Path"
      ],
      "metadata": {
        "id": "bABauqepJy0X"
      },
      "execution_count": null,
      "outputs": []
    },
    {
      "cell_type": "markdown",
      "source": [
        "#1. Dataframe Properties"
      ],
      "metadata": {
        "id": "tjOR-01iJz6i"
      }
    },
    {
      "cell_type": "code",
      "source": [
        "# Adjust paths as needed\n",
        "INPUT_XLSX = Path(\"/content/ES-003 Entry Summary Line Tariff Details - Test Version_395602997411203221.xlsx\")\n",
        "SHEET_NAME = \"Query 1\"  # worksheet/tab name\n",
        "OUTPUT_XLSX = Path(\"ace_report_enriched.xlsx\")\n",
        "\n",
        "# Column names as in the sample spreadsheet\n",
        "COL_ENTRY_NUM = \"Entry Summary Number\"\n",
        "COL_LINE_NUM  = \"Entry Summary Line Number\"\n",
        "\n",
        "# All requested tariff columns\n",
        "TARIFF_COLS = [\n",
        "    \"Line Tariff Duty Amount\",\n",
        "    \"Line MPF Amount\",\n",
        "    \"Line HMF Amount\",\n",
        "    \"Antidumping Duty Amount\",\n",
        "    \"Countervailing Duty Amount\",\n",
        "]\n",
        "\n",
        "# ===== STEP 0.1 — Helpers =====\n",
        "def fmt_code_part(x):\n",
        "    \"\"\"Formats parts of the code to avoid strings like '12345.0'.\"\"\"\n",
        "    if pd.isna(x):\n",
        "        return \"\"\n",
        "    if isinstance(x, float) and x.is_integer():\n",
        "        return str(int(x))\n",
        "    s = str(x).strip()\n",
        "    if s.endswith(\".0\") and s.replace(\".0\", \"\").isdigit():\n",
        "        return s.replace(\".0\", \"\")\n",
        "    return s\n",
        "\n",
        "# ===== STEP 1 — Load data =====\n",
        "df = pd.read_excel(INPUT_XLSX, sheet_name=SHEET_NAME)"
      ],
      "metadata": {
        "id": "JctNHoYJBYjK"
      },
      "execution_count": null,
      "outputs": []
    },
    {
      "cell_type": "markdown",
      "source": [
        "# 2. Dataframe Transofrmations"
      ],
      "metadata": {
        "id": "J9CRI_MIKBpR"
      }
    },
    {
      "cell_type": "code",
      "source": [
        "# ===== STEP 2 — Create \"Entry summary number code\" =====\n",
        "df[\"Entry summary number code\"] = (\n",
        "    df[COL_ENTRY_NUM].map(fmt_code_part) + \"-\" + df[COL_LINE_NUM].map(fmt_code_part)\n",
        ")\n",
        "\n",
        "# ===== STEP 3 — Pivot/Group: sum tariff columns by code =====\n",
        "agg = (\n",
        "    df.groupby(\"Entry summary number code\", dropna=False)[TARIFF_COLS]\n",
        "      .sum(min_count=1)\n",
        "      .reset_index()\n",
        "      .add_suffix(\"__agg\")\n",
        ")\n",
        "\n",
        "# ===== STEP 4 — Merge: bring totals back to each row =====\n",
        "df = df.merge(\n",
        "    agg,\n",
        "    left_on=\"Entry summary number code\",\n",
        "    right_on=\"Entry summary number code__agg\",\n",
        "    how=\"left\",\n",
        ").drop(columns=[\"Entry summary number code__agg\"])\n",
        "\n",
        "# ===== STEP 5 — IF logic: keep totals on only ONE row per code =====\n",
        "df = df.sort_values([\"Entry summary number code\", COL_LINE_NUM], kind=\"mergesort\")\n",
        "is_last_of_code = df[\"Entry summary number code\"] != df[\"Entry summary number code\"].shift(-1)\n",
        "\n",
        "for col in TARIFF_COLS:\n",
        "    df[f\"Aggregated {col}\"] = np.where(is_last_of_code, df[f\"{col}__agg\"], 0.0)\n",
        "\n",
        "# ===== STEP 6 — Drop original tariff and VLOOKUP-like columns =====\n",
        "cols_to_drop = TARIFF_COLS + [f\"{col}__agg\" for col in TARIFF_COLS]\n",
        "df = df.drop(columns=cols_to_drop)"
      ],
      "metadata": {
        "id": "8TLC1_Y1KFc0"
      },
      "execution_count": null,
      "outputs": []
    },
    {
      "cell_type": "markdown",
      "source": [
        "# 3. Exporting the df"
      ],
      "metadata": {
        "id": "B4_0RcfjKKfy"
      }
    },
    {
      "cell_type": "code",
      "source": [
        "# ===== STEP 7 — Export =====\n",
        "df.to_csv(OUTPUT_XLSX, index=False, encoding=\"utf-8\")\n",
        "print(f\"File written: {OUTPUT_XLSX.resolve()}\")"
      ],
      "metadata": {
        "colab": {
          "base_uri": "https://localhost:8080/"
        },
        "id": "PyZE7PIEKNgz",
        "outputId": "067a4945-ce38-45ad-a24d-33c66f1bf803"
      },
      "execution_count": null,
      "outputs": [
        {
          "output_type": "stream",
          "name": "stdout",
          "text": [
            "File written: /content/ace_report_enriched.xlsx\n"
          ]
        }
      ]
    }
  ]
}