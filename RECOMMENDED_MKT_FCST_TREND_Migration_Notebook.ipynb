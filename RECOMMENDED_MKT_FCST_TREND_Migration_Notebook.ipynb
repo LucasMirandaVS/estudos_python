{
  "cells": [
    {
      "cell_type": "markdown",
      "metadata": {
        "id": "view-in-github",
        "colab_type": "text"
      },
      "source": [
        "<a href=\"https://colab.research.google.com/github/LucasMirandaVS/estudos_python/blob/main/RECOMMENDED_MKT_FCST_TREND_Migration_Notebook.ipynb\" target=\"_parent\"><img src=\"https://colab.research.google.com/assets/colab-badge.svg\" alt=\"Open In Colab\"/></a>"
      ]
    },
    {
      "cell_type": "code",
      "execution_count": null,
      "metadata": {
        "application/vnd.databricks.v1+cell": {
          "cellMetadata": {
            "byteLimit": 2048000,
            "rowLimit": 10000
          },
          "inputWidgets": {},
          "nuid": "4acd6072-8a37-448f-9abf-37fc1b1653c6",
          "showTitle": true,
          "tableResultSettingsMap": {},
          "title": "Loading Utils"
        },
        "id": "T6C0ZexqhN6Y",
        "outputId": "c11c0d23-04c2-4720-9f76-e1a42ca0a863"
      },
      "outputs": [
        {
          "output_type": "stream",
          "name": "stdout",
          "text": [
            "UBI_PATH: abfss://d3-shared-data@cdldevadl2weu.dfs.core.windows.net/30_datamart_D3/UBI/\nCNA_PATH: abfss://d3-shared-data@cdldevadl2weu.dfs.core.windows.net/30_datamart_D3/CNA/\n"
          ]
        },
        {
          "output_type": "display_data",
          "data": {
            "text/markdown": [
              "The functions below this are outside of the usual vein of this \"utils\" notebook, but are functions used across multiple notebooks in Cloud Phoenix."
            ]
          },
          "metadata": {}
        }
      ],
      "source": [
        "%run /PHX/utils"
      ]
    },
    {
      "cell_type": "code",
      "execution_count": null,
      "metadata": {
        "application/vnd.databricks.v1+cell": {
          "cellMetadata": {
            "byteLimit": 2048000,
            "rowLimit": 10000
          },
          "inputWidgets": {},
          "nuid": "8758ecd4-90af-4bb7-8e96-09903d7604b2",
          "showTitle": true,
          "tableResultSettingsMap": {},
          "title": "Imports"
        },
        "id": "mT4umdUrhN6a"
      },
      "outputs": [],
      "source": [
        "from datetime import datetime\n",
        "import re\n",
        "from pyspark.sql.functions import col, regexp_replace\n",
        "from pyspark.sql.types import DoubleType\n",
        "from pyspark.sql.types import StructType, StructField, StringType, IntegerType, TimestampType, DateType, DecimalType"
      ]
    },
    {
      "cell_type": "code",
      "execution_count": null,
      "metadata": {
        "application/vnd.databricks.v1+cell": {
          "cellMetadata": {
            "byteLimit": 2048000,
            "rowLimit": 10000
          },
          "inputWidgets": {},
          "nuid": "86232efb-dfc9-4213-b846-ae2e715b4ae3",
          "showTitle": true,
          "tableResultSettingsMap": {},
          "title": "PATHS Definition"
        },
        "id": "SBcOgm6zhN6a"
      },
      "outputs": [],
      "source": [
        "data_path = read_json(env2_pvt + \"/40_project/PHX/DATA_IN/config/data_path.json\")[0]\n",
        "INPUT_PATH = env2_d3_prd + \"/30_datamart_D3/UBI/RECOMMENDED_MKT_FCST_TREND/\"\n",
        "OUTPUT_PATH = env2_d2 + \"/20_datastore_D2/PHX/RECOMMENDED_MKT_FCST_TREND/\""
      ]
    },
    {
      "cell_type": "code",
      "execution_count": null,
      "metadata": {
        "application/vnd.databricks.v1+cell": {
          "cellMetadata": {
            "byteLimit": 2048000,
            "rowLimit": 10000
          },
          "inputWidgets": {},
          "nuid": "089ba8eb-f835-4d3c-bd85-28ebb9b73cfc",
          "showTitle": true,
          "tableResultSettingsMap": {},
          "title": "Schema Definition"
        },
        "id": "UfWMfxROhN6a"
      },
      "outputs": [],
      "source": [
        "schema = StructType(\n",
        "[StructField('CALENDAR_CCYYMM_NBR', DecimalType(6,0), True),\n",
        " StructField('ITERATION_CCYYMM_NBR', DecimalType(6,0), True),\n",
        " StructField('CAD_CODE', StringType(), True),\n",
        " StructField('MSPN_NBR', StringType(), True),\n",
        " StructField('ST_CUST_NBR', StringType(), True),\n",
        " StructField('COUNTRY_CODE', StringType(), True),\n",
        " StructField('WEIGHTING_MIX_IND', StringType(), True),\n",
        " StructField('RECOMMENDED_FCST_QTY', DecimalType(28,15), True),\n",
        " StructField('RECOMMENDED_FCST_PRICE', DecimalType(28,15), True),\n",
        " StructField('RECOMMENDED_FCST_KG', DecimalType(28,15), True),]\n",
        ")"
      ]
    },
    {
      "cell_type": "code",
      "execution_count": null,
      "metadata": {
        "application/vnd.databricks.v1+cell": {
          "cellMetadata": {
            "byteLimit": 2048000,
            "rowLimit": 10000
          },
          "inputWidgets": {},
          "nuid": "1dcd7c56-b34b-4f16-828d-cd88e17b05a4",
          "showTitle": true,
          "tableResultSettingsMap": {},
          "title": "Read source, transform and write"
        },
        "id": "n6UsC9_9hN6b"
      },
      "outputs": [],
      "source": [
        "files = dbutils.fs.ls(INPUT_PATH)\n",
        "files_to_process = []\n",
        "\n",
        "for file in files:\n",
        "    match = re.search(r'(\\d{6})', file.name)\n",
        "    if match:\n",
        "        month_str = match.group(1)\n",
        "        if 202301 <= int(month_str) <= 202504:\n",
        "            files_to_process.append((file.name, month_str))"
      ]
    },
    {
      "cell_type": "code",
      "execution_count": null,
      "metadata": {
        "application/vnd.databricks.v1+cell": {
          "cellMetadata": {
            "byteLimit": 2048000,
            "rowLimit": 10000
          },
          "inputWidgets": {},
          "nuid": "2a4b7138-daeb-4a84-80da-db73b4ba7e77",
          "showTitle": false,
          "tableResultSettingsMap": {},
          "title": ""
        },
        "id": "NJRo1iqRhN6b",
        "outputId": "9cfadfa7-34f5-4e14-f859-65149215d6b3"
      },
      "outputs": [
        {
          "output_type": "stream",
          "name": "stdout",
          "text": [
            "\n--- Listing all files in INPUT_PATH ---\nRECOMMENDED_MKT_FCST_TREND_201808.parquet\nRECOMMENDED_MKT_FCST_TREND_201811.parquet\nRECOMMENDED_MKT_FCST_TREND_201812.parquet\nRECOMMENDED_MKT_FCST_TREND_201901.parquet\nRECOMMENDED_MKT_FCST_TREND_201902.parquet\nRECOMMENDED_MKT_FCST_TREND_201903.parquet\nRECOMMENDED_MKT_FCST_TREND_201904.parquet\nRECOMMENDED_MKT_FCST_TREND_201905.parquet\nRECOMMENDED_MKT_FCST_TREND_201906.parquet\nRECOMMENDED_MKT_FCST_TREND_201907.parquet\nRECOMMENDED_MKT_FCST_TREND_201908.parquet\nRECOMMENDED_MKT_FCST_TREND_201909.parquet\nRECOMMENDED_MKT_FCST_TREND_201910.parquet\nRECOMMENDED_MKT_FCST_TREND_201911.parquet\nRECOMMENDED_MKT_FCST_TREND_201912.parquet\nRECOMMENDED_MKT_FCST_TREND_202001.parquet\nRECOMMENDED_MKT_FCST_TREND_202002.parquet\nRECOMMENDED_MKT_FCST_TREND_202003.parquet\nRECOMMENDED_MKT_FCST_TREND_202004.parquet\nRECOMMENDED_MKT_FCST_TREND_202005.parquet\nRECOMMENDED_MKT_FCST_TREND_202006.parquet\nRECOMMENDED_MKT_FCST_TREND_202007.parquet\nRECOMMENDED_MKT_FCST_TREND_202008.parquet\nRECOMMENDED_MKT_FCST_TREND_202009.parquet\nRECOMMENDED_MKT_FCST_TREND_202010.parquet\nRECOMMENDED_MKT_FCST_TREND_202011.parquet\nRECOMMENDED_MKT_FCST_TREND_202012.parquet\nRECOMMENDED_MKT_FCST_TREND_202101.parquet\nRECOMMENDED_MKT_FCST_TREND_202102.parquet\nRECOMMENDED_MKT_FCST_TREND_202103.parquet\nRECOMMENDED_MKT_FCST_TREND_202104.parquet\nRECOMMENDED_MKT_FCST_TREND_202105.parquet\nRECOMMENDED_MKT_FCST_TREND_202106.parquet\nRECOMMENDED_MKT_FCST_TREND_202107.parquet\nRECOMMENDED_MKT_FCST_TREND_202108.parquet\nRECOMMENDED_MKT_FCST_TREND_202109.parquet\nRECOMMENDED_MKT_FCST_TREND_202110.parquet\nRECOMMENDED_MKT_FCST_TREND_202111.parquet\nRECOMMENDED_MKT_FCST_TREND_202201.parquet\nRECOMMENDED_MKT_FCST_TREND_202202.parquet\nRECOMMENDED_MKT_FCST_TREND_202203.parquet\nRECOMMENDED_MKT_FCST_TREND_202204.parquet\nRECOMMENDED_MKT_FCST_TREND_202206.parquet\nRECOMMENDED_MKT_FCST_TREND_202209.parquet\nRECOMMENDED_MKT_FCST_TREND_202210.parquet\nRECOMMENDED_MKT_FCST_TREND_202211.parquet\nRECOMMENDED_MKT_FCST_TREND_202212.parquet\nRECOMMENDED_MKT_FCST_TREND_202301.parquet\nRECOMMENDED_MKT_FCST_TREND_202302.parquet\nRECOMMENDED_MKT_FCST_TREND_202303.parquet\nRECOMMENDED_MKT_FCST_TREND_202304.parquet\nRECOMMENDED_MKT_FCST_TREND_202305.parquet\nRECOMMENDED_MKT_FCST_TREND_202306.parquet\nRECOMMENDED_MKT_FCST_TREND_202307.parquet\nRECOMMENDED_MKT_FCST_TREND_202308.parquet\nRECOMMENDED_MKT_FCST_TREND_202309.parquet\nRECOMMENDED_MKT_FCST_TREND_202310.parquet\nRECOMMENDED_MKT_FCST_TREND_202312.parquet\nRECOMMENDED_MKT_FCST_TREND_202401.parquet\nRECOMMENDED_MKT_FCST_TREND_202402.parquet\nRECOMMENDED_MKT_FCST_TREND_202405.parquet\nRECOMMENDED_MKT_FCST_TREND_202406.parquet\nRECOMMENDED_MKT_FCST_TREND_202408.parquet\nRECOMMENDED_MKT_FCST_TREND_202409.parquet\nRECOMMENDED_MKT_FCST_TREND_202410.parquet\nRECOMMENDED_MKT_FCST_TREND_202411.parquet\nRECOMMENDED_MKT_FCST_TREND_202412.parquet\nRECOMMENDED_MKT_FCST_TREND_202501.parquet\nRECOMMENDED_MKT_FCST_TREND_202503.parquet\n"
          ]
        }
      ],
      "source": [
        "print(\"\\n--- Listing all files in INPUT_PATH ---\")\n",
        "for file in files:\n",
        "    print(file.name)"
      ]
    },
    {
      "cell_type": "code",
      "execution_count": null,
      "metadata": {
        "application/vnd.databricks.v1+cell": {
          "cellMetadata": {
            "byteLimit": 2048000,
            "rowLimit": 10000
          },
          "inputWidgets": {},
          "nuid": "2ba9905f-26e9-4096-b310-92ac45ecb180",
          "showTitle": false,
          "tableResultSettingsMap": {},
          "title": ""
        },
        "id": "PlYzs7OLhN6b",
        "outputId": "9c07df39-9192-47ef-983f-feda8eb99a89"
      },
      "outputs": [
        {
          "output_type": "stream",
          "name": "stdout",
          "text": [
            "Processing: RECOMMENDED_MKT_FCST_TREND_202301.parquet\nWritten to abfss://d2-shared-data@cdldevadl2weu.dfs.core.windows.net/20_datastore_D2/PHX/RECOMMENDED_MKT_FCST_TREND/202301\nProcessing: RECOMMENDED_MKT_FCST_TREND_202302.parquet\nWritten to abfss://d2-shared-data@cdldevadl2weu.dfs.core.windows.net/20_datastore_D2/PHX/RECOMMENDED_MKT_FCST_TREND/202302\nProcessing: RECOMMENDED_MKT_FCST_TREND_202303.parquet\nWritten to abfss://d2-shared-data@cdldevadl2weu.dfs.core.windows.net/20_datastore_D2/PHX/RECOMMENDED_MKT_FCST_TREND/202303\nProcessing: RECOMMENDED_MKT_FCST_TREND_202304.parquet\nWritten to abfss://d2-shared-data@cdldevadl2weu.dfs.core.windows.net/20_datastore_D2/PHX/RECOMMENDED_MKT_FCST_TREND/202304\nProcessing: RECOMMENDED_MKT_FCST_TREND_202305.parquet\nWritten to abfss://d2-shared-data@cdldevadl2weu.dfs.core.windows.net/20_datastore_D2/PHX/RECOMMENDED_MKT_FCST_TREND/202305\nProcessing: RECOMMENDED_MKT_FCST_TREND_202306.parquet\nWritten to abfss://d2-shared-data@cdldevadl2weu.dfs.core.windows.net/20_datastore_D2/PHX/RECOMMENDED_MKT_FCST_TREND/202306\nProcessing: RECOMMENDED_MKT_FCST_TREND_202307.parquet\nWritten to abfss://d2-shared-data@cdldevadl2weu.dfs.core.windows.net/20_datastore_D2/PHX/RECOMMENDED_MKT_FCST_TREND/202307\nProcessing: RECOMMENDED_MKT_FCST_TREND_202308.parquet\nWritten to abfss://d2-shared-data@cdldevadl2weu.dfs.core.windows.net/20_datastore_D2/PHX/RECOMMENDED_MKT_FCST_TREND/202308\nProcessing: RECOMMENDED_MKT_FCST_TREND_202309.parquet\nWritten to abfss://d2-shared-data@cdldevadl2weu.dfs.core.windows.net/20_datastore_D2/PHX/RECOMMENDED_MKT_FCST_TREND/202309\nProcessing: RECOMMENDED_MKT_FCST_TREND_202310.parquet\nWritten to abfss://d2-shared-data@cdldevadl2weu.dfs.core.windows.net/20_datastore_D2/PHX/RECOMMENDED_MKT_FCST_TREND/202310\nProcessing: RECOMMENDED_MKT_FCST_TREND_202312.parquet\nWritten to abfss://d2-shared-data@cdldevadl2weu.dfs.core.windows.net/20_datastore_D2/PHX/RECOMMENDED_MKT_FCST_TREND/202312\nProcessing: RECOMMENDED_MKT_FCST_TREND_202401.parquet\nWritten to abfss://d2-shared-data@cdldevadl2weu.dfs.core.windows.net/20_datastore_D2/PHX/RECOMMENDED_MKT_FCST_TREND/202401\nProcessing: RECOMMENDED_MKT_FCST_TREND_202402.parquet\nWritten to abfss://d2-shared-data@cdldevadl2weu.dfs.core.windows.net/20_datastore_D2/PHX/RECOMMENDED_MKT_FCST_TREND/202402\nProcessing: RECOMMENDED_MKT_FCST_TREND_202405.parquet\nWritten to abfss://d2-shared-data@cdldevadl2weu.dfs.core.windows.net/20_datastore_D2/PHX/RECOMMENDED_MKT_FCST_TREND/202405\nProcessing: RECOMMENDED_MKT_FCST_TREND_202406.parquet\nWritten to abfss://d2-shared-data@cdldevadl2weu.dfs.core.windows.net/20_datastore_D2/PHX/RECOMMENDED_MKT_FCST_TREND/202406\nProcessing: RECOMMENDED_MKT_FCST_TREND_202408.parquet\nWritten to abfss://d2-shared-data@cdldevadl2weu.dfs.core.windows.net/20_datastore_D2/PHX/RECOMMENDED_MKT_FCST_TREND/202408\nProcessing: RECOMMENDED_MKT_FCST_TREND_202409.parquet\nWritten to abfss://d2-shared-data@cdldevadl2weu.dfs.core.windows.net/20_datastore_D2/PHX/RECOMMENDED_MKT_FCST_TREND/202409\nProcessing: RECOMMENDED_MKT_FCST_TREND_202410.parquet\nWritten to abfss://d2-shared-data@cdldevadl2weu.dfs.core.windows.net/20_datastore_D2/PHX/RECOMMENDED_MKT_FCST_TREND/202410\nProcessing: RECOMMENDED_MKT_FCST_TREND_202411.parquet\nWritten to abfss://d2-shared-data@cdldevadl2weu.dfs.core.windows.net/20_datastore_D2/PHX/RECOMMENDED_MKT_FCST_TREND/202411\nProcessing: RECOMMENDED_MKT_FCST_TREND_202412.parquet\nWritten to abfss://d2-shared-data@cdldevadl2weu.dfs.core.windows.net/20_datastore_D2/PHX/RECOMMENDED_MKT_FCST_TREND/202412\nProcessing: RECOMMENDED_MKT_FCST_TREND_202501.parquet\nWritten to abfss://d2-shared-data@cdldevadl2weu.dfs.core.windows.net/20_datastore_D2/PHX/RECOMMENDED_MKT_FCST_TREND/202501\nProcessing: RECOMMENDED_MKT_FCST_TREND_202503.parquet\nWritten to abfss://d2-shared-data@cdldevadl2weu.dfs.core.windows.net/20_datastore_D2/PHX/RECOMMENDED_MKT_FCST_TREND/202503\n"
          ]
        }
      ],
      "source": [
        "for file_name, dt_month in files_to_process:\n",
        "    print(f\"Processing: {file_name}\")\n",
        "    df = spark.read.format(\"parquet\").load(f\"{INPUT_PATH}{file_name}\")\n",
        "    df.write.format(\"parquet\").mode(\"overwrite\").save(f\"{OUTPUT_PATH}{dt_month}\")\n",
        "    print(f\"Written to {OUTPUT_PATH}{dt_month}\")"
      ]
    },
    {
      "cell_type": "code",
      "execution_count": null,
      "metadata": {
        "application/vnd.databricks.v1+cell": {
          "cellMetadata": {
            "byteLimit": 2048000,
            "rowLimit": 10000
          },
          "inputWidgets": {},
          "nuid": "3b6cca05-0f1c-411a-8ec4-cee3de52ff9d",
          "showTitle": false,
          "tableResultSettingsMap": {},
          "title": ""
        },
        "id": "1VYXeS12hN6c",
        "outputId": "746b9e68-a15b-47d2-b7b9-0494a42aef34"
      },
      "outputs": [
        {
          "output_type": "stream",
          "name": "stdout",
          "text": [
            "\n--- Directory PHX ---\n"
          ]
        },
        {
          "output_type": "execute_result",
          "data": {
            "text/plain": [
              "[FileInfo(path='abfss://d2-shared-data@cdldevadl2weu.dfs.core.windows.net/20_datastore_D2/PHX/1+11_Camso/', name='1+11_Camso/', size=0, modificationTime=1741799536000),\n",
              " FileInfo(path='abfss://d2-shared-data@cdldevadl2weu.dfs.core.windows.net/20_datastore_D2/PHX/DEMAND_SALES_PLAN_FCST_GLO/', name='DEMAND_SALES_PLAN_FCST_GLO/', size=0, modificationTime=1745519433000),\n",
              " FileInfo(path='abfss://d2-shared-data@cdldevadl2weu.dfs.core.windows.net/20_datastore_D2/PHX/DEMAND_SALES_PLAN_FCST_TREND/', name='DEMAND_SALES_PLAN_FCST_TREND/', size=0, modificationTime=1745522306000),\n",
              " FileInfo(path='abfss://d2-shared-data@cdldevadl2weu.dfs.core.windows.net/20_datastore_D2/PHX/DEMAND_SALES_PLAN_FORECAST/', name='DEMAND_SALES_PLAN_FORECAST/', size=0, modificationTime=1742924106000),\n",
              " FileInfo(path='abfss://d2-shared-data@cdldevadl2weu.dfs.core.windows.net/20_datastore_D2/PHX/NOMINAL_MKT_FCST_TREND/', name='NOMINAL_MKT_FCST_TREND/', size=0, modificationTime=1714750707000),\n",
              " FileInfo(path='abfss://d2-shared-data@cdldevadl2weu.dfs.core.windows.net/20_datastore_D2/PHX/RECOMMENDED_MKT_FCST_REJECTS/', name='RECOMMENDED_MKT_FCST_REJECTS/', size=0, modificationTime=1745524694000),\n",
              " FileInfo(path='abfss://d2-shared-data@cdldevadl2weu.dfs.core.windows.net/20_datastore_D2/PHX/RECOMMENDED_MKT_FCST_TREND/', name='RECOMMENDED_MKT_FCST_TREND/', size=0, modificationTime=1745524897000),\n",
              " FileInfo(path='abfss://d2-shared-data@cdldevadl2weu.dfs.core.windows.net/20_datastore_D2/PHX/REC_NOMINAL_FCST_ITER_MTH_IND/', name='REC_NOMINAL_FCST_ITER_MTH_IND/', size=0, modificationTime=1742924108000)]"
            ]
          },
          "execution_count": 39,
          "metadata": {}
        }
      ],
      "source": [
        "print(\"\\n--- Directory PHX ---\")\n",
        "dbutils.fs.ls(env2_d2 + \"/20_datastore_D2/PHX/\")"
      ]
    },
    {
      "cell_type": "code",
      "execution_count": null,
      "metadata": {
        "application/vnd.databricks.v1+cell": {
          "cellMetadata": {
            "byteLimit": 2048000,
            "rowLimit": 10000
          },
          "inputWidgets": {},
          "nuid": "e8d493e0-7584-48a9-9dd7-031051ee6cc1",
          "showTitle": false,
          "tableResultSettingsMap": {},
          "title": ""
        },
        "id": "C0kyfOkOhN6c",
        "outputId": "e19938da-a56a-4238-be8e-1d2fafd13b6d"
      },
      "outputs": [
        {
          "output_type": "stream",
          "name": "stdout",
          "text": [
            "\n--- Subfolders within RECOMMENDED_MKT_FCST_TREND ---\n"
          ]
        },
        {
          "output_type": "execute_result",
          "data": {
            "text/plain": [
              "[FileInfo(path='abfss://d2-shared-data@cdldevadl2weu.dfs.core.windows.net/20_datastore_D2/PHX/RECOMMENDED_MKT_FCST_TREND/202301/', name='202301/', size=0, modificationTime=1745524897000),\n",
              " FileInfo(path='abfss://d2-shared-data@cdldevadl2weu.dfs.core.windows.net/20_datastore_D2/PHX/RECOMMENDED_MKT_FCST_TREND/202302/', name='202302/', size=0, modificationTime=1745524948000),\n",
              " FileInfo(path='abfss://d2-shared-data@cdldevadl2weu.dfs.core.windows.net/20_datastore_D2/PHX/RECOMMENDED_MKT_FCST_TREND/202303/', name='202303/', size=0, modificationTime=1745525015000),\n",
              " FileInfo(path='abfss://d2-shared-data@cdldevadl2weu.dfs.core.windows.net/20_datastore_D2/PHX/RECOMMENDED_MKT_FCST_TREND/202304/', name='202304/', size=0, modificationTime=1745525079000),\n",
              " FileInfo(path='abfss://d2-shared-data@cdldevadl2weu.dfs.core.windows.net/20_datastore_D2/PHX/RECOMMENDED_MKT_FCST_TREND/202305/', name='202305/', size=0, modificationTime=1745525143000),\n",
              " FileInfo(path='abfss://d2-shared-data@cdldevadl2weu.dfs.core.windows.net/20_datastore_D2/PHX/RECOMMENDED_MKT_FCST_TREND/202306/', name='202306/', size=0, modificationTime=1745525203000),\n",
              " FileInfo(path='abfss://d2-shared-data@cdldevadl2weu.dfs.core.windows.net/20_datastore_D2/PHX/RECOMMENDED_MKT_FCST_TREND/202307/', name='202307/', size=0, modificationTime=1745525257000),\n",
              " FileInfo(path='abfss://d2-shared-data@cdldevadl2weu.dfs.core.windows.net/20_datastore_D2/PHX/RECOMMENDED_MKT_FCST_TREND/202308/', name='202308/', size=0, modificationTime=1745525308000),\n",
              " FileInfo(path='abfss://d2-shared-data@cdldevadl2weu.dfs.core.windows.net/20_datastore_D2/PHX/RECOMMENDED_MKT_FCST_TREND/202309/', name='202309/', size=0, modificationTime=1745525359000),\n",
              " FileInfo(path='abfss://d2-shared-data@cdldevadl2weu.dfs.core.windows.net/20_datastore_D2/PHX/RECOMMENDED_MKT_FCST_TREND/202310/', name='202310/', size=0, modificationTime=1745525411000),\n",
              " FileInfo(path='abfss://d2-shared-data@cdldevadl2weu.dfs.core.windows.net/20_datastore_D2/PHX/RECOMMENDED_MKT_FCST_TREND/202312/', name='202312/', size=0, modificationTime=1745525458000),\n",
              " FileInfo(path='abfss://d2-shared-data@cdldevadl2weu.dfs.core.windows.net/20_datastore_D2/PHX/RECOMMENDED_MKT_FCST_TREND/202401/', name='202401/', size=0, modificationTime=1745525502000),\n",
              " FileInfo(path='abfss://d2-shared-data@cdldevadl2weu.dfs.core.windows.net/20_datastore_D2/PHX/RECOMMENDED_MKT_FCST_TREND/202402/', name='202402/', size=0, modificationTime=1745525543000),\n",
              " FileInfo(path='abfss://d2-shared-data@cdldevadl2weu.dfs.core.windows.net/20_datastore_D2/PHX/RECOMMENDED_MKT_FCST_TREND/202405/', name='202405/', size=0, modificationTime=1745525581000),\n",
              " FileInfo(path='abfss://d2-shared-data@cdldevadl2weu.dfs.core.windows.net/20_datastore_D2/PHX/RECOMMENDED_MKT_FCST_TREND/202406/', name='202406/', size=0, modificationTime=1745525630000),\n",
              " FileInfo(path='abfss://d2-shared-data@cdldevadl2weu.dfs.core.windows.net/20_datastore_D2/PHX/RECOMMENDED_MKT_FCST_TREND/202408/', name='202408/', size=0, modificationTime=1745525676000),\n",
              " FileInfo(path='abfss://d2-shared-data@cdldevadl2weu.dfs.core.windows.net/20_datastore_D2/PHX/RECOMMENDED_MKT_FCST_TREND/202409/', name='202409/', size=0, modificationTime=1745525727000),\n",
              " FileInfo(path='abfss://d2-shared-data@cdldevadl2weu.dfs.core.windows.net/20_datastore_D2/PHX/RECOMMENDED_MKT_FCST_TREND/202410/', name='202410/', size=0, modificationTime=1745525762000),\n",
              " FileInfo(path='abfss://d2-shared-data@cdldevadl2weu.dfs.core.windows.net/20_datastore_D2/PHX/RECOMMENDED_MKT_FCST_TREND/202411/', name='202411/', size=0, modificationTime=1745525801000),\n",
              " FileInfo(path='abfss://d2-shared-data@cdldevadl2weu.dfs.core.windows.net/20_datastore_D2/PHX/RECOMMENDED_MKT_FCST_TREND/202412/', name='202412/', size=0, modificationTime=1745525840000),\n",
              " FileInfo(path='abfss://d2-shared-data@cdldevadl2weu.dfs.core.windows.net/20_datastore_D2/PHX/RECOMMENDED_MKT_FCST_TREND/202501/', name='202501/', size=0, modificationTime=1745525880000),\n",
              " FileInfo(path='abfss://d2-shared-data@cdldevadl2weu.dfs.core.windows.net/20_datastore_D2/PHX/RECOMMENDED_MKT_FCST_TREND/202503/', name='202503/', size=0, modificationTime=1745525915000)]"
            ]
          },
          "execution_count": 40,
          "metadata": {}
        }
      ],
      "source": [
        "print(\"\\n--- Subfolders within RECOMMENDED_MKT_FCST_TREND ---\")\n",
        "dbutils.fs.ls(OUTPUT_PATH)"
      ]
    }
  ],
  "metadata": {
    "application/vnd.databricks.v1+notebook": {
      "computePreferences": null,
      "dashboards": [],
      "environmentMetadata": {
        "base_environment": "",
        "environment_version": "2"
      },
      "inputWidgetPreferences": null,
      "language": "python",
      "notebookMetadata": {
        "pythonIndentUnit": 4
      },
      "notebookName": "RECOMMENDED_MKT_FCST_TREND Migration Notebook",
      "widgets": {}
    },
    "language_info": {
      "name": "python"
    },
    "colab": {
      "provenance": [],
      "include_colab_link": true
    }
  },
  "nbformat": 4,
  "nbformat_minor": 0
}